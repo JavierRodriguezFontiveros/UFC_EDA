{
 "cells": [
  {
   "cell_type": "markdown",
   "metadata": {},
   "source": [
    "![imagen](./img/ejercicios.png)"
   ]
  },
  {
   "cell_type": "markdown",
   "metadata": {},
   "source": [
    "# INFORMACIÓN DEL PROYECTO"
   ]
  },
  {
   "cell_type": "markdown",
   "metadata": {},
   "source": [
    "### TÍTULO"
   ]
  },
  {
   "cell_type": "code",
   "execution_count": 1,
   "metadata": {},
   "outputs": [],
   "source": [
    "#Escribe el título del proyecto en Markdown\n",
    "titulo = \"Análisis Exploratorio sobre la UFC\""
   ]
  },
  {
   "cell_type": "markdown",
   "metadata": {},
   "source": [
    "### TEMA"
   ]
  },
  {
   "cell_type": "code",
   "execution_count": 2,
   "metadata": {},
   "outputs": [],
   "source": [
    "# Describe brevemente el tema del proyecto en Markdown\n",
    "tema = \"\""
   ]
  },
  {
   "cell_type": "markdown",
   "metadata": {},
   "source": [
    "### HIPÓTESIS"
   ]
  },
  {
   "cell_type": "markdown",
   "metadata": {},
   "source": [
    "Define aquí lo que será la hipótesis de tu proyecto.\n",
    "Deberás tener más de una, pero tu proyecto lo harás teniendo una principal hipótesis."
   ]
  },
  {
   "cell_type": "code",
   "execution_count": 3,
   "metadata": {},
   "outputs": [],
   "source": [
    "# Escribe tu hipótesis principal en Markdown\n",
    "hipotesis_1 = \"\""
   ]
  },
  {
   "cell_type": "code",
   "execution_count": 4,
   "metadata": {},
   "outputs": [],
   "source": [
    "# Escribe más hipótesis si las hubiera en Markdown\n",
    "# hipotesis_2 = \"\"\n",
    "# hipotesis_3 = \"\"\n",
    "# hipotesis_4 = \"\"\n",
    "# hipotesis_5 = \"\"\n",
    "# ...\n"
   ]
  },
  {
   "cell_type": "markdown",
   "metadata": {},
   "source": [
    "## OBTENCIÓN DE LOS DATOS"
   ]
  },
  {
   "cell_type": "markdown",
   "metadata": {},
   "source": [
    "### DATASETS Y FUENTES ALTERNATIVAS DE DATOS"
   ]
  },
  {
   "cell_type": "markdown",
   "metadata": {},
   "source": [
    "Incluye aquí una vista del dataset o datasets de los que partirás para poder evaluar tu hipótesis. <br>\n",
    "También incluye el origen de estos datos y su fuente."
   ]
  },
  {
   "cell_type": "code",
   "execution_count": 5,
   "metadata": {},
   "outputs": [],
   "source": [
    "import pandas as pd\n",
    "# guarda en variables los datasets y su fuente\n",
    "df_1 = pd.DataFrame()\n",
    "fuente_1 = \"\"\n",
    "# df_2 = pd.DataFrame()\n",
    "# fuente_2 = \"\"\n",
    "# df_3 = pd.DataFrame()\n",
    "# fuente_3 = \"\"\n",
    "# df_4 = pd.DataFrame()\n",
    "# fuente_4 = \"\"\n",
    "# df_5 = pd.DataFrame()\n",
    "# fuente_5 = \"\"\n",
    "# ..."
   ]
  },
  {
   "cell_type": "markdown",
   "metadata": {},
   "source": [
    "Muestra mediante un head() los principales datasets con los que vas a trabajar"
   ]
  },
  {
   "cell_type": "code",
   "execution_count": 6,
   "metadata": {},
   "outputs": [],
   "source": [
    "# Primer dataset\n",
    "# df_1.head()"
   ]
  },
  {
   "cell_type": "code",
   "execution_count": 7,
   "metadata": {},
   "outputs": [],
   "source": [
    "# Siguiente dataset...\n",
    "# df_2.head()"
   ]
  },
  {
   "cell_type": "markdown",
   "metadata": {},
   "source": [
    "# Hipótesis estadísticas de los peleadores\n",
    "\n",
    "## Hipótesis Generales\n",
    "\n",
    "1. **Influencia de la Altura en las Victorias**\n",
    "   - **Hipótesis**: Los luchadores con mayor altura tienden a tener un número mayor de victorias.\n",
    "   - **Análisis**: Examina la correlación entre la altura y el número de victorias.\n",
    "\n",
    "2. **Impacto de la Edad en el Rendimiento**\n",
    "   - **Hipótesis**: Los luchadores más jóvenes tienen un rendimiento mejor en términos de victorias y estadísticas de golpeo.\n",
    "   - **Análisis**: Compara las estadísticas de luchadores de diferentes rangos de edad.\n",
    "\n",
    "3. **Efecto del Alcance en la Precisión de Golpes**\n",
    "   - **Hipótesis**: Los luchadores con mayor alcance tienen una mayor precisión en sus golpes significativos (sig_str_acc).\n",
    "   - **Análisis**: Analiza la relación entre el alcance y la precisión de los golpes.\n",
    "\n",
    "4. **Relación entre el Estilo de Pelea y el Éxito**\n",
    "   - **Hipótesis**: Los luchadores que utilizan una postura ortodoxa tienen un mayor número de victorias en comparación con aquellos que utilizan otras posturas.\n",
    "   - **Análisis**: Compara el número de victorias entre diferentes estilos de pelea.\n",
    "\n",
    "5. **Tendencia de Eficiencia de Golpeo a lo Largo del Tiempo**\n",
    "   - **Hipótesis**: La precisión de los golpes significativos (sig_str_acc) ha aumentado con el tiempo en la UFC.\n",
    "   - **Análisis**: Examina si hay una tendencia temporal en la precisión de los golpes en diferentes años.\n",
    "\n",
    "## Hipótesis Específicas\n",
    "\n",
    "6. **Efecto del Takedown en los Resultados de Peleas**\n",
    "   - **Hipótesis**: Los luchadores con un alto promedio de derribos (td_avg) tienen una mayor tasa de victorias por finalización (knockout o sumisión).\n",
    "   - **Análisis**: Compara el número de derribos promedio y las tasas de finalización en las victorias.\n",
    "\n",
    "7. **Defensiva de Takedowns y Éxito en la Carrera**\n",
    "   - **Hipótesis**: Los luchadores con una alta defensa de derribos (td_def) tienen un porcentaje más alto de victorias en su carrera.\n",
    "   - **Análisis**: Examina la relación entre la defensa de derribos y el porcentaje de victorias.\n",
    "\n",
    "8. **Relación entre Golpes Absorbidos y Resultados de Peleas**\n",
    "   - **Hipótesis**: Los luchadores que absorben menos golpes significativos por minuto (SApM) tienen un mayor número de victorias.\n",
    "   - **Análisis**: Analiza cómo la cantidad de golpes absorbidos se relaciona con el número de victorias.\n",
    "\n",
    "9. **Influencia de las Sumisiones en la Estrategia de Lucha**\n",
    "   - **Hipótesis**: Los luchadores que intentan más sumisiones (sub_avg) tienden a ganar más peleas por finalización.\n",
    "   - **Análisis**: Compara el promedio de intentos de sumisión con las victorias por sumisión.\n",
    "\n",
    "10. **Precisión de Golpes y Resultados de Peleas**\n",
    "    - **Hipótesis**: Los luchadores con una alta precisión de golpeo (sig_str_acc) tienden a tener un número mayor de victorias por knockout.\n",
    "    - **Análisis**: Examina la relación entre la precisión de los golpes y las victorias por knockout.\n"
   ]
  },
  {
   "cell_type": "markdown",
   "metadata": {},
   "source": [
    "# Hipótesis Eventos\n",
    "\n",
    "## Hipótesis Generales\n",
    "\n",
    "1. **Hipótesis de Rendimiento por Género**: \n",
    "   - Las peleadoras femeninas tienen un rendimiento significativamente diferente en términos de victorias y métodos de finalización en comparación con los peleadores masculinos.\n",
    "\n",
    "2. **Hipótesis de Clases de Peso**: \n",
    "   - Las peleas en las categorías de peso más ligeras (por ejemplo, peso pluma) tienden a tener más finalizaciones por nocaut en comparación con las categorías de peso más pesadas (por ejemplo, peso pesado).\n",
    "\n",
    "3. **Hipótesis de Experiencia y Resultados**: \n",
    "   - Los peleadores con más años de experiencia (suma de victorias y derrotas) tienen una tasa de éxito más alta en las peleas de título en comparación con los nuevos contendientes.\n",
    "\n",
    "4. **Hipótesis de Método de Finalización**: \n",
    "   - La mayoría de las peleas terminan por decisión en lugar de por nocaut o sumisión, independientemente de la clase de peso o género de los peleadores.\n",
    "\n",
    "5. **Hipótesis de Impacto del Árbitro**: \n",
    "   - Las decisiones de los árbitros influyen en el tiempo total de la pelea, siendo las peleas dirigidas por árbitros más experimentados más propensas a finalizarse en un tiempo menor.\n",
    "\n",
    "6. **Hipótesis de Precisión de Golpes**: \n",
    "   - Los peleadores que tienen una mayor tasa de precisión de golpes significativos (r_sig_str_acc) tienen una mayor probabilidad de ganar la pelea.\n",
    "\n",
    "7. **Hipótesis de Diferencial de Edad**: \n",
    "   - La diferencia de edad (age_diff) entre los peleadores afecta el resultado, donde un peleador más joven tiene más probabilidades de ganar contra un oponente significativamente mayor.\n",
    "\n",
    "8. **Hipótesis de Takedowns**: \n",
    "   - Los peleadores que logran más derribos (red_td) en una pelea tienen una mayor probabilidad de ganar por decisión, en comparación con aquellos que no logran derribos.\n",
    "\n",
    "9. **Hipótesis de Control en la Pelea**: \n",
    "   - Los peleadores que controlan más tiempo (red_ctrl_sec) durante una pelea tienen más probabilidades de ganar, independientemente del método de finalización.\n",
    "\n",
    "10. **Hipótesis de Efecto del Estilo de Pelea**: \n",
    "   - Los peleadores que utilizan un estilo de pelea más agresivo (alta tasa de strikes significativos intentados, r_sig_str_att) tienen más probabilidades de ganar por nocaut, en comparación con aquellos que son más defensivos."
   ]
  },
  {
   "cell_type": "markdown",
   "metadata": {},
   "source": [
    "# Hipótesis para datos en Eventos de UFC\n",
    "\n",
    "## Hipótesis Generales\n",
    "\n",
    "1. **Influencia del Lugar en los Resultados de la Pelea**\n",
    "   - **Hipótesis**: Los eventos celebrados en ciudades con una mayor tradición de artes marciales mixtas (MMA) tienden a tener un mayor número de victorias para los luchadores locales.\n",
    "   - **Análisis**: Examina el porcentaje de victorias de luchadores locales en comparación con los de fuera.\n",
    "\n",
    "2. **Relación entre la Fecha del Evento y el Éxito de los Luchadores**\n",
    "   - **Hipótesis**: Los eventos celebrados en fechas más cercanas a otros eventos importantes tienen un mayor número de decisiones en comparación con los knockouts o sumisiones.\n",
    "   - **Análisis**: Analiza si hay una tendencia en los resultados según la proximidad de otros eventos importantes.\n",
    "\n",
    "3. **Tendencias en Métodos de Victoria a lo Largo del Tiempo**\n",
    "   - **Hipótesis**: El método de victoria más común ha cambiado con el tiempo, con un aumento en las victorias por decisión en las últimas décadas.\n",
    "   - **Análisis**: Examina la tendencia en los métodos de victoria a lo largo de los años.\n",
    "\n",
    "4. **Efecto de la Clase de Peso en los Resultados**\n",
    "   - **Hipótesis**: Las clases de peso más ligeras (por ejemplo, pluma o gallo) tienden a tener un mayor número de finalizaciones (knockouts o sumisiones) en comparación con las clases de peso más pesadas.\n",
    "   - **Análisis**: Compara el número de finalizaciones entre diferentes clases de peso.\n",
    "\n",
    "5. **Influencia de la Duración de la Pelea en el Método de Victoria**\n",
    "   - **Hipótesis**: Las peleas que terminan en el primer o segundo round son más propensas a terminar por knockout en comparación con las peleas que llegan a la decisión.\n",
    "   - **Análisis**: Examina el método de victoria en relación con el round en el que terminó la pelea.\n",
    "\n",
    "## Hipótesis Específicas\n",
    "\n",
    "6. **Relación entre Knockdowns y el Resultado de la Pelea**\n",
    "   - **Hipótesis**: Los luchadores que logran un mayor número de knockdowns (r_kd o b_kd) en un evento tienen una mayor probabilidad de ganar la pelea.\n",
    "   - **Análisis**: Compara el número de knockdowns con los resultados de la pelea (victoria o derrota).\n",
    "\n",
    "7. **Impacto de los Intentos de Sumisión en el Resultado**\n",
    "   - **Hipótesis**: Los luchadores que intentan más sumisiones (r_sub o b_sub) tienen una mayor tasa de victoria por sumisión.\n",
    "   - **Análisis**: Examina la relación entre el número de intentos de sumisión y las victorias por sumisión.\n",
    "\n",
    "8. **Efecto de los Golpes Significativos en el Resultado de la Pelea**\n",
    "   - **Hipótesis**: Los luchadores que conectan un mayor número de golpes significativos (r_str o b_str) tienden a ganar más peleas.\n",
    "   - **Análisis**: Compara el número de golpes significativos conectados con el resultado de la pelea.\n",
    "\n",
    "9. **Takedowns y Decisiones en Peleas**\n",
    "   - **Hipótesis**: Los luchadores que logran un mayor número de derribos (r_td o b_td) tienen más probabilidades de ganar por decisión.\n",
    "   - **Análisis**: Analiza la relación entre el número de derribos y el método de victoria (decisión vs. finalización).\n",
    "\n",
    "10. **Efecto del Número de Rounds en el Método de Victoria**\n",
    "    - **Hipótesis**: Las peleas que se realizan en una clase de peso superior (más pesada) son más propensas a terminar por decisión en comparación con las peleas en clases de peso inferior.\n",
    "    - **Análisis**: Examina la relación entre el número de rounds, la clase de peso y el método de victoria.\n"
   ]
  },
  {
   "cell_type": "markdown",
   "metadata": {},
   "source": [
    "# Hipótesis Ubicacion \n",
    "\n",
    "## Hipótesis Generales\n",
    "\n",
    "1. **Influencia de la Localización en el Resultado de la Pelea**\n",
    "   - **Hipótesis**: Los luchadores locales (r_fighter) tienden a ganar más peleas cuando compiten en su ciudad natal o en eventos cercanos a su lugar de origen.\n",
    "   - **Análisis**: Examina la tasa de victorias de los luchadores locales en comparación con los luchadores visitantes.\n",
    "\n",
    "2. **Relación entre la Fecha del Evento y el Método de Victoria**\n",
    "   - **Hipótesis**: Los eventos que ocurren en fines de semana o festivos tienen un mayor número de victorias por knockout en comparación con aquellos que no.\n",
    "   - **Análisis**: Analiza si la fecha de la pelea tiene un impacto en el método de victoria (knockout, sumisión, decisión).\n",
    "\n",
    "3. **Efecto de la Temporada en el Rendimiento de los Luchadores**\n",
    "   - **Hipótesis**: Los luchadores muestran un mejor rendimiento en peleas realizadas en meses de verano en comparación con los meses de invierno.\n",
    "   - **Análisis**: Examina el número de victorias y el método de victoria en función de la temporada del año.\n",
    "\n",
    "4. **Tendencias de Localización a lo Largo del Tiempo**\n",
    "   - **Hipótesis**: La popularidad de ciertas localizaciones para eventos de UFC ha cambiado con el tiempo, con un aumento en eventos realizados en ciudades específicas.\n",
    "   - **Análisis**: Examina la frecuencia de eventos en diferentes ciudades a lo largo de los años.\n",
    "\n",
    "5. **Relación entre el Tipo de Evento y el Método de Victoria**\n",
    "   - **Hipótesis**: Los eventos numerados (por ejemplo, UFC 250) tienden a tener un mayor número de finales por knockout en comparación con eventos no numerados.\n",
    "   - **Análisis**: Compara el método de victoria en eventos numerados frente a eventos no numerados.\n",
    "\n",
    "6. **Impacto de la Localización en el Número de Asistentes**\n",
    "   - **Hipótesis**: Las localizaciones más grandes (estadios vs. arenas pequeñas) tienen un mayor número de asistentes, lo que a su vez impacta en la percepción de los luchadores y su rendimiento.\n",
    "   - **Análisis**: Compara la capacidad de las localizaciones con los resultados de las peleas.\n",
    "\n",
    "7. **Efecto de Eventos Previos en el Rendimiento del Luchador**\n",
    "   - **Hipótesis**: Los luchadores que compiten en eventos que han sido transmitidos en televisión nacional tienen un mejor rendimiento (más victorias) en comparación con aquellos que no.\n",
    "   - **Análisis**: Examina la relación entre la transmisión de eventos y el rendimiento de los luchadores.\n",
    "\n",
    "8. **Relación entre la Localización y el Método de Victoria en Peleas de Títulos**\n",
    "   - **Hipótesis**: Las peleas de títulos en localizaciones icónicas (por ejemplo, Las Vegas) tienden a terminar más a menudo por decisión que por knockout o sumisión.\n",
    "   - **Análisis**: Examina el método de victoria en peleas de títulos según la localización.\n",
    "\n",
    "9. **Influencia de la Fecha del Evento en el Rendimiento de los Luchadores**\n",
    "   - **Hipótesis**: Los luchadores que compiten en fechas cercanas a otros eventos (por ejemplo, dentro de un mes) tienden a mostrar un rendimiento inferior en comparación con aquellos que tienen más tiempo entre peleas.\n",
    "   - **Análisis**: Compara el rendimiento de luchadores según el intervalo de tiempo entre eventos.\n",
    "\n",
    "10. **Impacto del Clima en el Resultado de la Pelea**\n",
    "    - **Hipótesis**: Las peleas realizadas en condiciones climáticas extremas (por ejemplo, en climas muy calurosos o fríos) tienden a tener un mayor número de finalizaciones por sumisión.\n",
    "    - **Análisis**: Investiga si hay una correlación entre el clima en la localización del evento y el método de victoria."
   ]
  }
 ],
 "metadata": {
  "kernelspec": {
   "display_name": "Python 3",
   "language": "python",
   "name": "python3"
  },
  "language_info": {
   "codemirror_mode": {
    "name": "ipython",
    "version": 3
   },
   "file_extension": ".py",
   "mimetype": "text/x-python",
   "name": "python",
   "nbconvert_exporter": "python",
   "pygments_lexer": "ipython3",
   "version": "3.12.5"
  },
  "orig_nbformat": 4
 },
 "nbformat": 4,
 "nbformat_minor": 2
}
