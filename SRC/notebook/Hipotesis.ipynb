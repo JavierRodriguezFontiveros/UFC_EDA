{
 "cells": [
  {
   "cell_type": "code",
   "execution_count": 401,
   "metadata": {},
   "outputs": [],
   "source": [
    "import pandas as pd\n",
    "import seaborn as sns\n",
    "import matplotlib.pyplot as plt"
   ]
  },
  {
   "cell_type": "code",
   "execution_count": 402,
   "metadata": {},
   "outputs": [],
   "source": [
    "#Leyendo DataSets\n",
    "# Optimización de la lectura de los datasets, eliminando la columna 'Unnamed: 0' directamente\n",
    "df_1 = pd.read_csv(\"./estadisticas_peleador_limpio.csv\", index_col=0)\n",
    "df_2 = pd.read_csv(\"./Enfrentamientos_limpio.csv\", index_col=0)\n",
    "df_3 = pd.read_csv(\"./Categorias_por_peso.csv\", index_col=0)\n",
    "\n"
   ]
  },
  {
   "cell_type": "code",
   "execution_count": 403,
   "metadata": {},
   "outputs": [
    {
     "data": {
      "text/html": [
       "<div>\n",
       "<style scoped>\n",
       "    .dataframe tbody tr th:only-of-type {\n",
       "        vertical-align: middle;\n",
       "    }\n",
       "\n",
       "    .dataframe tbody tr th {\n",
       "        vertical-align: top;\n",
       "    }\n",
       "\n",
       "    .dataframe thead th {\n",
       "        text-align: right;\n",
       "    }\n",
       "</style>\n",
       "<table border=\"1\" class=\"dataframe\">\n",
       "  <thead>\n",
       "    <tr style=\"text-align: right;\">\n",
       "      <th></th>\n",
       "      <th>Nombre</th>\n",
       "      <th>Pais</th>\n",
       "      <th>Victorias</th>\n",
       "      <th>Derrotas</th>\n",
       "      <th>Altura</th>\n",
       "      <th>Peso</th>\n",
       "      <th>Alcance</th>\n",
       "      <th>Guardia</th>\n",
       "      <th>Edad</th>\n",
       "      <th>Golpes_min</th>\n",
       "      <th>Golpes_acer</th>\n",
       "      <th>Golpes_abs</th>\n",
       "      <th>Golpes_def</th>\n",
       "      <th>Derribos_med</th>\n",
       "      <th>Derribos_acer</th>\n",
       "      <th>Derribos_def</th>\n",
       "      <th>Sumision_int</th>\n",
       "    </tr>\n",
       "  </thead>\n",
       "  <tbody>\n",
       "    <tr>\n",
       "      <th>0</th>\n",
       "      <td>Amanda Ribas</td>\n",
       "      <td>Brasil</td>\n",
       "      <td>12.0</td>\n",
       "      <td>5.0</td>\n",
       "      <td>160.02</td>\n",
       "      <td>56.70</td>\n",
       "      <td>167.64</td>\n",
       "      <td>Ortodoxo</td>\n",
       "      <td>30.0</td>\n",
       "      <td>4.63</td>\n",
       "      <td>0.40</td>\n",
       "      <td>3.40</td>\n",
       "      <td>0.61</td>\n",
       "      <td>2.07</td>\n",
       "      <td>0.51</td>\n",
       "      <td>0.85</td>\n",
       "      <td>0.7</td>\n",
       "    </tr>\n",
       "    <tr>\n",
       "      <th>1</th>\n",
       "      <td>Rose Namajunas</td>\n",
       "      <td>Estados Unidos</td>\n",
       "      <td>13.0</td>\n",
       "      <td>6.0</td>\n",
       "      <td>165.10</td>\n",
       "      <td>56.70</td>\n",
       "      <td>165.10</td>\n",
       "      <td>Ortodoxo</td>\n",
       "      <td>31.0</td>\n",
       "      <td>3.69</td>\n",
       "      <td>0.41</td>\n",
       "      <td>3.51</td>\n",
       "      <td>0.63</td>\n",
       "      <td>1.38</td>\n",
       "      <td>0.47</td>\n",
       "      <td>0.59</td>\n",
       "      <td>0.5</td>\n",
       "    </tr>\n",
       "    <tr>\n",
       "      <th>2</th>\n",
       "      <td>Justin Tafa</td>\n",
       "      <td>Nueva Zelanda</td>\n",
       "      <td>7.0</td>\n",
       "      <td>4.0</td>\n",
       "      <td>182.88</td>\n",
       "      <td>119.75</td>\n",
       "      <td>187.96</td>\n",
       "      <td>Zurdo</td>\n",
       "      <td>30.0</td>\n",
       "      <td>4.09</td>\n",
       "      <td>0.54</td>\n",
       "      <td>5.02</td>\n",
       "      <td>0.47</td>\n",
       "      <td>0.00</td>\n",
       "      <td>0.00</td>\n",
       "      <td>0.50</td>\n",
       "      <td>0.0</td>\n",
       "    </tr>\n",
       "    <tr>\n",
       "      <th>3</th>\n",
       "      <td>Edmen Shahbazyan</td>\n",
       "      <td>Estados Unidos</td>\n",
       "      <td>13.0</td>\n",
       "      <td>4.0</td>\n",
       "      <td>187.96</td>\n",
       "      <td>83.91</td>\n",
       "      <td>190.50</td>\n",
       "      <td>Ortodoxo</td>\n",
       "      <td>26.0</td>\n",
       "      <td>3.60</td>\n",
       "      <td>0.52</td>\n",
       "      <td>4.09</td>\n",
       "      <td>0.45</td>\n",
       "      <td>2.24</td>\n",
       "      <td>0.38</td>\n",
       "      <td>0.63</td>\n",
       "      <td>0.6</td>\n",
       "    </tr>\n",
       "    <tr>\n",
       "      <th>4</th>\n",
       "      <td>Payton Talbott</td>\n",
       "      <td>Estados Unidos</td>\n",
       "      <td>8.0</td>\n",
       "      <td>0.0</td>\n",
       "      <td>177.80</td>\n",
       "      <td>61.23</td>\n",
       "      <td>177.80</td>\n",
       "      <td>Ambidiestro</td>\n",
       "      <td>25.0</td>\n",
       "      <td>8.05</td>\n",
       "      <td>0.54</td>\n",
       "      <td>3.58</td>\n",
       "      <td>0.51</td>\n",
       "      <td>0.00</td>\n",
       "      <td>0.00</td>\n",
       "      <td>0.90</td>\n",
       "      <td>0.5</td>\n",
       "    </tr>\n",
       "  </tbody>\n",
       "</table>\n",
       "</div>"
      ],
      "text/plain": [
       "             Nombre            Pais  Victorias  Derrotas  Altura    Peso  \\\n",
       "0      Amanda Ribas          Brasil       12.0       5.0  160.02   56.70   \n",
       "1    Rose Namajunas  Estados Unidos       13.0       6.0  165.10   56.70   \n",
       "2       Justin Tafa   Nueva Zelanda        7.0       4.0  182.88  119.75   \n",
       "3  Edmen Shahbazyan  Estados Unidos       13.0       4.0  187.96   83.91   \n",
       "4    Payton Talbott  Estados Unidos        8.0       0.0  177.80   61.23   \n",
       "\n",
       "   Alcance      Guardia  Edad  Golpes_min  Golpes_acer  Golpes_abs  \\\n",
       "0   167.64     Ortodoxo  30.0        4.63         0.40        3.40   \n",
       "1   165.10     Ortodoxo  31.0        3.69         0.41        3.51   \n",
       "2   187.96        Zurdo  30.0        4.09         0.54        5.02   \n",
       "3   190.50     Ortodoxo  26.0        3.60         0.52        4.09   \n",
       "4   177.80  Ambidiestro  25.0        8.05         0.54        3.58   \n",
       "\n",
       "   Golpes_def  Derribos_med  Derribos_acer  Derribos_def  Sumision_int  \n",
       "0        0.61          2.07           0.51          0.85           0.7  \n",
       "1        0.63          1.38           0.47          0.59           0.5  \n",
       "2        0.47          0.00           0.00          0.50           0.0  \n",
       "3        0.45          2.24           0.38          0.63           0.6  \n",
       "4        0.51          0.00           0.00          0.90           0.5  "
      ]
     },
     "execution_count": 403,
     "metadata": {},
     "output_type": "execute_result"
    }
   ],
   "source": [
    "df_1.head()\n"
   ]
  },
  {
   "cell_type": "code",
   "execution_count": 404,
   "metadata": {},
   "outputs": [
    {
     "data": {
      "text/html": [
       "<div>\n",
       "<style scoped>\n",
       "    .dataframe tbody tr th:only-of-type {\n",
       "        vertical-align: middle;\n",
       "    }\n",
       "\n",
       "    .dataframe tbody tr th {\n",
       "        vertical-align: top;\n",
       "    }\n",
       "\n",
       "    .dataframe thead th {\n",
       "        text-align: right;\n",
       "    }\n",
       "</style>\n",
       "<table border=\"1\" class=\"dataframe\">\n",
       "  <thead>\n",
       "    <tr style=\"text-align: right;\">\n",
       "      <th></th>\n",
       "      <th>Evento</th>\n",
       "      <th>Día</th>\n",
       "      <th>Donde</th>\n",
       "      <th>Ganador</th>\n",
       "      <th>Perdedor</th>\n",
       "      <th>Division</th>\n",
       "      <th>Metodo</th>\n",
       "      <th>Detalles</th>\n",
       "      <th>Round</th>\n",
       "      <th>Tiempo</th>\n",
       "    </tr>\n",
       "  </thead>\n",
       "  <tbody>\n",
       "    <tr>\n",
       "      <th>0</th>\n",
       "      <td>UFC Fight Night: Ribas vs. Namajunas</td>\n",
       "      <td>3/23/2024</td>\n",
       "      <td>Las Vegas, Nevada, USA</td>\n",
       "      <td>Edmen Shahbazyan</td>\n",
       "      <td>AJ Dobson</td>\n",
       "      <td>Peso Medio</td>\n",
       "      <td>KO/TKO</td>\n",
       "      <td>Golpes</td>\n",
       "      <td>1.0</td>\n",
       "      <td>4:33</td>\n",
       "    </tr>\n",
       "    <tr>\n",
       "      <th>1</th>\n",
       "      <td>UFC Fight Night: Ribas vs. Namajunas</td>\n",
       "      <td>3/23/2024</td>\n",
       "      <td>Las Vegas, Nevada, USA</td>\n",
       "      <td>Payton Talbott</td>\n",
       "      <td>Cameron Saaiman</td>\n",
       "      <td>Peso Gallo</td>\n",
       "      <td>KO/TKO</td>\n",
       "      <td>Golpes</td>\n",
       "      <td>2.0</td>\n",
       "      <td>0:21</td>\n",
       "    </tr>\n",
       "    <tr>\n",
       "      <th>2</th>\n",
       "      <td>UFC Fight Night: Ribas vs. Namajunas</td>\n",
       "      <td>3/23/2024</td>\n",
       "      <td>Las Vegas, Nevada, USA</td>\n",
       "      <td>Youssef Zalal</td>\n",
       "      <td>Billy Quarantillo</td>\n",
       "      <td>Peso Pluma</td>\n",
       "      <td>SUB</td>\n",
       "      <td>Estrangulación Trasera</td>\n",
       "      <td>2.0</td>\n",
       "      <td>1:50</td>\n",
       "    </tr>\n",
       "    <tr>\n",
       "      <th>3</th>\n",
       "      <td>UFC Fight Night: Ribas vs. Namajunas</td>\n",
       "      <td>3/23/2024</td>\n",
       "      <td>Las Vegas, Nevada, USA</td>\n",
       "      <td>Fernando Padilla</td>\n",
       "      <td>Luis Pajuelo</td>\n",
       "      <td>Peso Pluma</td>\n",
       "      <td>SUB</td>\n",
       "      <td>Estrangulación D'Arce</td>\n",
       "      <td>1.0</td>\n",
       "      <td>2:45</td>\n",
       "    </tr>\n",
       "    <tr>\n",
       "      <th>4</th>\n",
       "      <td>UFC Fight Night: Ribas vs. Namajunas</td>\n",
       "      <td>3/23/2024</td>\n",
       "      <td>Las Vegas, Nevada, USA</td>\n",
       "      <td>Julian Erosa</td>\n",
       "      <td>Ricardo Ramos</td>\n",
       "      <td>Peso Pluma</td>\n",
       "      <td>SUB</td>\n",
       "      <td>Estrangulación Guillotina</td>\n",
       "      <td>1.0</td>\n",
       "      <td>2:15</td>\n",
       "    </tr>\n",
       "  </tbody>\n",
       "</table>\n",
       "</div>"
      ],
      "text/plain": [
       "                                 Evento        Día                   Donde  \\\n",
       "0  UFC Fight Night: Ribas vs. Namajunas  3/23/2024  Las Vegas, Nevada, USA   \n",
       "1  UFC Fight Night: Ribas vs. Namajunas  3/23/2024  Las Vegas, Nevada, USA   \n",
       "2  UFC Fight Night: Ribas vs. Namajunas  3/23/2024  Las Vegas, Nevada, USA   \n",
       "3  UFC Fight Night: Ribas vs. Namajunas  3/23/2024  Las Vegas, Nevada, USA   \n",
       "4  UFC Fight Night: Ribas vs. Namajunas  3/23/2024  Las Vegas, Nevada, USA   \n",
       "\n",
       "            Ganador           Perdedor    Division  Metodo  \\\n",
       "0  Edmen Shahbazyan          AJ Dobson  Peso Medio  KO/TKO   \n",
       "1    Payton Talbott    Cameron Saaiman  Peso Gallo  KO/TKO   \n",
       "2     Youssef Zalal  Billy Quarantillo  Peso Pluma     SUB   \n",
       "3  Fernando Padilla       Luis Pajuelo  Peso Pluma     SUB   \n",
       "4      Julian Erosa      Ricardo Ramos  Peso Pluma     SUB   \n",
       "\n",
       "                    Detalles  Round Tiempo  \n",
       "0                     Golpes    1.0   4:33  \n",
       "1                     Golpes    2.0   0:21  \n",
       "2     Estrangulación Trasera    2.0   1:50  \n",
       "3      Estrangulación D'Arce    1.0   2:45  \n",
       "4  Estrangulación Guillotina    1.0   2:15  "
      ]
     },
     "execution_count": 404,
     "metadata": {},
     "output_type": "execute_result"
    }
   ],
   "source": [
    "df_2.head()"
   ]
  },
  {
   "cell_type": "code",
   "execution_count": 405,
   "metadata": {},
   "outputs": [
    {
     "data": {
      "text/html": [
       "<div>\n",
       "<style scoped>\n",
       "    .dataframe tbody tr th:only-of-type {\n",
       "        vertical-align: middle;\n",
       "    }\n",
       "\n",
       "    .dataframe tbody tr th {\n",
       "        vertical-align: top;\n",
       "    }\n",
       "\n",
       "    .dataframe thead th {\n",
       "        text-align: right;\n",
       "    }\n",
       "</style>\n",
       "<table border=\"1\" class=\"dataframe\">\n",
       "  <thead>\n",
       "    <tr style=\"text-align: right;\">\n",
       "      <th></th>\n",
       "      <th>Division</th>\n",
       "      <th>Peso (kg)</th>\n",
       "    </tr>\n",
       "  </thead>\n",
       "  <tbody>\n",
       "    <tr>\n",
       "      <th>0</th>\n",
       "      <td>Peso Medio</td>\n",
       "      <td>Hasta 84 kg</td>\n",
       "    </tr>\n",
       "    <tr>\n",
       "      <th>1</th>\n",
       "      <td>Peso Gallo</td>\n",
       "      <td>Hasta 61.2 kg</td>\n",
       "    </tr>\n",
       "    <tr>\n",
       "      <th>2</th>\n",
       "      <td>Peso Pluma</td>\n",
       "      <td>Hasta 65.8 kg</td>\n",
       "    </tr>\n",
       "    <tr>\n",
       "      <th>3</th>\n",
       "      <td>Peso Pesado</td>\n",
       "      <td>Hasta 120.2 kg</td>\n",
       "    </tr>\n",
       "    <tr>\n",
       "      <th>4</th>\n",
       "      <td>Peso Gallo</td>\n",
       "      <td>Hasta 61.2 kg</td>\n",
       "    </tr>\n",
       "  </tbody>\n",
       "</table>\n",
       "</div>"
      ],
      "text/plain": [
       "      Division       Peso (kg)\n",
       "0   Peso Medio     Hasta 84 kg\n",
       "1   Peso Gallo   Hasta 61.2 kg\n",
       "2   Peso Pluma   Hasta 65.8 kg\n",
       "3  Peso Pesado  Hasta 120.2 kg\n",
       "4   Peso Gallo   Hasta 61.2 kg"
      ]
     },
     "execution_count": 405,
     "metadata": {},
     "output_type": "execute_result"
    }
   ],
   "source": [
    "df_3.head()"
   ]
  },
  {
   "cell_type": "markdown",
   "metadata": {},
   "source": [
    "# Resolucion de hipotesis:\n",
    "1. Relación entre la guardia y el Éxito en ambos géneros 🤼\n",
    "\n"
   ]
  },
  {
   "cell_type": "code",
   "execution_count": 406,
   "metadata": {},
   "outputs": [],
   "source": [
    "df_1_filtro = df_1[['Nombre', 'Guardia']]\n",
    "df_2_filtro = df_2[['Ganador', 'Perdedor']]"
   ]
  },
  {
   "cell_type": "code",
   "execution_count": 407,
   "metadata": {},
   "outputs": [
    {
     "data": {
      "text/html": [
       "<div>\n",
       "<style scoped>\n",
       "    .dataframe tbody tr th:only-of-type {\n",
       "        vertical-align: middle;\n",
       "    }\n",
       "\n",
       "    .dataframe tbody tr th {\n",
       "        vertical-align: top;\n",
       "    }\n",
       "\n",
       "    .dataframe thead th {\n",
       "        text-align: right;\n",
       "    }\n",
       "</style>\n",
       "<table border=\"1\" class=\"dataframe\">\n",
       "  <thead>\n",
       "    <tr style=\"text-align: right;\">\n",
       "      <th></th>\n",
       "      <th>Ganador</th>\n",
       "      <th>Guardia_ganador</th>\n",
       "      <th>Perdedor</th>\n",
       "      <th>Guardia_perdedor</th>\n",
       "    </tr>\n",
       "  </thead>\n",
       "  <tbody>\n",
       "    <tr>\n",
       "      <th>1</th>\n",
       "      <td>Payton Talbott</td>\n",
       "      <td>Ambidiestro</td>\n",
       "      <td>Cameron Saaiman</td>\n",
       "      <td>Zurdo</td>\n",
       "    </tr>\n",
       "    <tr>\n",
       "      <th>2</th>\n",
       "      <td>Youssef Zalal</td>\n",
       "      <td>Ambidiestro</td>\n",
       "      <td>Billy Quarantillo</td>\n",
       "      <td>Ortodoxo</td>\n",
       "    </tr>\n",
       "    <tr>\n",
       "      <th>4</th>\n",
       "      <td>Julian Erosa</td>\n",
       "      <td>Zurdo</td>\n",
       "      <td>Ricardo Ramos</td>\n",
       "      <td>Ortodoxo</td>\n",
       "    </tr>\n",
       "    <tr>\n",
       "      <th>5</th>\n",
       "      <td>Marcin Tybura</td>\n",
       "      <td>Ortodoxo</td>\n",
       "      <td>Tai Tuivasa</td>\n",
       "      <td>Zurdo</td>\n",
       "    </tr>\n",
       "    <tr>\n",
       "      <th>6</th>\n",
       "      <td>Macy Chiasson</td>\n",
       "      <td>Ortodoxo</td>\n",
       "      <td>Pannie Kianzad</td>\n",
       "      <td>Ortodoxo</td>\n",
       "    </tr>\n",
       "    <tr>\n",
       "      <th>...</th>\n",
       "      <td>...</td>\n",
       "      <td>...</td>\n",
       "      <td>...</td>\n",
       "      <td>...</td>\n",
       "    </tr>\n",
       "    <tr>\n",
       "      <th>3015</th>\n",
       "      <td>Jon Jones</td>\n",
       "      <td>Ortodoxo</td>\n",
       "      <td>Brandon Vera</td>\n",
       "      <td>Ortodoxo</td>\n",
       "    </tr>\n",
       "    <tr>\n",
       "      <th>3070</th>\n",
       "      <td>Vitor Belfort</td>\n",
       "      <td>Zurdo</td>\n",
       "      <td>Rich Franklin</td>\n",
       "      <td>Zurdo</td>\n",
       "    </tr>\n",
       "    <tr>\n",
       "      <th>3078</th>\n",
       "      <td>Nate Diaz</td>\n",
       "      <td>Zurdo</td>\n",
       "      <td>Melvin Guillard</td>\n",
       "      <td>Ortodoxo</td>\n",
       "    </tr>\n",
       "    <tr>\n",
       "      <th>3177</th>\n",
       "      <td>Jeremy Stephens</td>\n",
       "      <td>Ortodoxo</td>\n",
       "      <td>Rafael Dos Anjos</td>\n",
       "      <td>Zurdo</td>\n",
       "    </tr>\n",
       "    <tr>\n",
       "      <th>3274</th>\n",
       "      <td>Jeremy Stephens</td>\n",
       "      <td>Ortodoxo</td>\n",
       "      <td>Cole Miller</td>\n",
       "      <td>Ortodoxo</td>\n",
       "    </tr>\n",
       "  </tbody>\n",
       "</table>\n",
       "<p>660 rows × 4 columns</p>\n",
       "</div>"
      ],
      "text/plain": [
       "              Ganador Guardia_ganador           Perdedor Guardia_perdedor\n",
       "1      Payton Talbott     Ambidiestro    Cameron Saaiman            Zurdo\n",
       "2       Youssef Zalal     Ambidiestro  Billy Quarantillo         Ortodoxo\n",
       "4        Julian Erosa           Zurdo      Ricardo Ramos         Ortodoxo\n",
       "5       Marcin Tybura        Ortodoxo        Tai Tuivasa            Zurdo\n",
       "6       Macy Chiasson        Ortodoxo     Pannie Kianzad         Ortodoxo\n",
       "...               ...             ...                ...              ...\n",
       "3015        Jon Jones        Ortodoxo       Brandon Vera         Ortodoxo\n",
       "3070    Vitor Belfort           Zurdo      Rich Franklin            Zurdo\n",
       "3078        Nate Diaz           Zurdo    Melvin Guillard         Ortodoxo\n",
       "3177  Jeremy Stephens        Ortodoxo   Rafael Dos Anjos            Zurdo\n",
       "3274  Jeremy Stephens        Ortodoxo        Cole Miller         Ortodoxo\n",
       "\n",
       "[660 rows x 4 columns]"
      ]
     },
     "execution_count": 407,
     "metadata": {},
     "output_type": "execute_result"
    }
   ],
   "source": [
    "ganadores = pd.merge(df_2_filtro, df_1_filtro, left_on='Ganador', right_on='Nombre', how='left')  #Merge\n",
    "ganadores = ganadores[['Ganador', 'Guardia']].rename(columns={'Guardia': 'Guardia_ganador'})      #Cambiar nombre\n",
    "\n",
    "perdedores = pd.merge(df_2_filtro, df_1_filtro, left_on='Perdedor', right_on='Nombre', how='left') #Merge\n",
    "perdedores = perdedores[['Perdedor', 'Guardia']].rename(columns={'Guardia': 'Guardia_perdedor'})   #Cambiar nombre\n",
    "\n",
    "df_combinado = pd.merge(ganadores, perdedores, left_index=True, right_index=True)                             #Combinar\n",
    "df_combinado = df_combinado.dropna(subset=['Ganador', 'Guardia_ganador', 'Perdedor', 'Guardia_perdedor'])     #Eliminar NaN's\n",
    "\n",
    "df_combinado"
   ]
  },
  {
   "cell_type": "code",
   "execution_count": 408,
   "metadata": {},
   "outputs": [
    {
     "data": {
      "image/png": "[encoded data removed]",
      "text/plain": [
       "<Figure size 500x500 with 1 Axes>"
      ]
     },
     "metadata": {},
     "output_type": "display_data"
    }
   ],
   "source": [
    "contador_guardias = df_combinado['Guardia_ganador'].value_counts()\n",
    "\n",
    "porcentajes_guardias = (contador_guardias / contador_guardias.sum()) * 100\n",
    "\n",
    "plt.figure(figsize=(5, 5))\n",
    "plt.pie(porcentajes_guardias, labels=porcentajes_guardias.index, autopct='%1.1f%%', startangle=90, colors=sns.color_palette('pastel'))\n",
    "plt.title(\"Porcentaje de Victorias por Guardia Ganadora\\n En ambos géneros\")\n",
    "\n",
    "plt.tight_layout()\n",
    "plt.show()\n"
   ]
  },
  {
   "cell_type": "markdown",
   "metadata": {},
   "source": [
    "#Dato Curioso: La prevalencia de zurdos en el mundo es del 10,6 %,"
   ]
  },
  {
   "cell_type": "markdown",
   "metadata": {},
   "source": [
    "2. Probabilidad de ganar respecto a una buena defensa de derribo? 🥋\n"
   ]
  },
  {
   "cell_type": "code",
   "execution_count": 409,
   "metadata": {},
   "outputs": [],
   "source": [
    "df_1_filtro = df_1[['Victorias', 'Derrotas','Derribos_def']]"
   ]
  },
  {
   "cell_type": "code",
   "execution_count": 410,
   "metadata": {},
   "outputs": [
    {
     "name": "stdout",
     "output_type": "stream",
     "text": [
      "Probabilidad promedio de ganar con buena defensa de derribos: 75.0 %\n"
     ]
    },
    {
     "name": "stderr",
     "output_type": "stream",
     "text": [
      "C:\\Users\\Jjaavviieerroperro\\AppData\\Local\\Temp\\ipykernel_19004\\893912401.py:1: SettingWithCopyWarning: \n",
      "A value is trying to be set on a copy of a slice from a DataFrame.\n",
      "Try using .loc[row_indexer,col_indexer] = value instead\n",
      "\n",
      "See the caveats in the documentation: https://pandas.pydata.org/pandas-docs/stable/user_guide/indexing.html#returning-a-view-versus-a-copy\n",
      "  df_1_filtro.loc[:,'Total_Peleas'] = df_1_filtro['Victorias'] + df_1_filtro['Derrotas']\n",
      "C:\\Users\\Jjaavviieerroperro\\AppData\\Local\\Temp\\ipykernel_19004\\893912401.py:2: SettingWithCopyWarning: \n",
      "A value is trying to be set on a copy of a slice from a DataFrame.\n",
      "Try using .loc[row_indexer,col_indexer] = value instead\n",
      "\n",
      "See the caveats in the documentation: https://pandas.pydata.org/pandas-docs/stable/user_guide/indexing.html#returning-a-view-versus-a-copy\n",
      "  df_1_filtro.loc[:,'Probabilidad_Ganar'] = df_1_filtro['Victorias'] / df_1_filtro['Total_Peleas']\n"
     ]
    }
   ],
   "source": [
    "df_1_filtro.loc[:,'Total_Peleas'] = df_1_filtro['Victorias'] + df_1_filtro['Derrotas']\n",
    "df_1_filtro.loc[:,'Probabilidad_Ganar'] = df_1_filtro['Victorias'] / df_1_filtro['Total_Peleas']\n",
    "\n",
    "umbral_defensa = 0.6                                            \n",
    "df_buena_defensa = df_1_filtro[df_1_filtro['Derribos_def'] >= umbral_defensa]\n",
    "\n",
    "probabilidad_promedio_ganar = df_buena_defensa['Probabilidad_Ganar'].mean()\n",
    "print(f\"Probabilidad promedio de ganar con buena defensa de derribos: {(round(probabilidad_promedio_ganar,2))*100} %\")\n"
   ]
  },
  {
   "cell_type": "markdown",
   "metadata": {},
   "source": [
    "3. Rendimiento por Género 🚺🤼‍♂️\n",
    "\n",
    "\n",
    "Del 1er dataset:\n",
    "wins (número de victorias)\n",
    "name (nombre del luchador)\n",
    "\n",
    "\n",
    "Del 2do dataset:\n",
    "r_fighter, b_fighter (relacionar con name)\n",
    "method, method_detailed (para analizar métodos de finalización)\n",
    "weight_class (para identificar si la pelea fue en una división masculina o femenina)\n",
    "\n",
    "\n",
    "Del 3er dataset:\n",
    "division (para categorizar entre divisiones femeninas y masculinas)\n"
   ]
  },
  {
   "cell_type": "markdown",
   "metadata": {},
   "source": [
    "\n",
    "4. Diferencia de Edades 👵👦\n",
    "\n",
    "Del 1er dataset:\n",
    "age (edad del luchador)\n",
    "name (nombre del luchador)\n",
    "\n",
    "Del 2do dataset:\n",
    "r_fighter, b_fighter (nombres de los luchadores)\n",
    "method, status (resultado de la pelea para saber quién ganó)"
   ]
  },
  {
   "cell_type": "code",
   "execution_count": 411,
   "metadata": {},
   "outputs": [
    {
     "data": {
      "text/plain": [
       "['Peso Medio',\n",
       " 'Peso Gallo',\n",
       " 'Peso Pluma',\n",
       " 'Peso Pesado',\n",
       " 'Peso Gallo',\n",
       " 'Peso Ligero',\n",
       " 'Peso Mosca',\n",
       " 'Peso Paja',\n",
       " 'Peso Welter',\n",
       " 'Peso Semipesado',\n",
       " 'Peso Pactado',\n",
       " 'Peso Super Pesado',\n",
       " 'Peso Abierto']"
      ]
     },
     "execution_count": 411,
     "metadata": {},
     "output_type": "execute_result"
    }
   ],
   "source": [
    "list(df_3[\"Division\"])"
   ]
  },
  {
   "cell_type": "markdown",
   "metadata": {},
   "source": [
    "5. Probabilidad de ganar por kO con golpes en cualquier division"
   ]
  },
  {
   "cell_type": "code",
   "execution_count": 412,
   "metadata": {},
   "outputs": [],
   "source": [
    "df_2_filtro = df_2[[\"Ganador\",\"Division\",\"Metodo\",\"Detalles\"]]\n"
   ]
  },
  {
   "cell_type": "code",
   "execution_count": 413,
   "metadata": {},
   "outputs": [
    {
     "name": "stdout",
     "output_type": "stream",
     "text": [
      "Número de peleadores en Peso Pesado: 447\n"
     ]
    }
   ],
   "source": [
    "division_concreta = 'Peso Pesado'\n",
    "\n",
    "conteo = df_2_filtro[df_2_filtro['Division'] == division_concreta].shape[0]\n",
    "print(f\"Número de peleadores en {division_concreta}: {conteo}\")\n",
    "\n"
   ]
  },
  {
   "cell_type": "code",
   "execution_count": 414,
   "metadata": {},
   "outputs": [
    {
     "data": {
      "text/plain": [
       "Division\n",
       "Peso Welter          385\n",
       "Peso Medio           351\n",
       "Peso Pesado          351\n",
       "Peso Ligero          349\n",
       "Peso Semipesado      276\n",
       "Peso Gallo           222\n",
       "Peso Pluma           195\n",
       "Peso Mosca           107\n",
       "Peso Paja             38\n",
       "Peso Abierto          36\n",
       "Peso Pactado          18\n",
       "Peso Super Pesado      1\n",
       "Name: count, dtype: int64"
      ]
     },
     "execution_count": 414,
     "metadata": {},
     "output_type": "execute_result"
    }
   ],
   "source": [
    "dict_golpes = {\n",
    "    \"Punches\": \"Golpes\",\n",
    "    \"Kick\": \"Patada\",\n",
    "    \"Punch\": \"Puño\",\n",
    "    \"Elbows\": \"Codos\",\n",
    "    \"Elbow\": \"Codo\",\n",
    "    \"Flying Knee\": \"Rodilla Voladora\",\n",
    "    \"Knees\": \"Rodillas\",\n",
    "    \"Knee\": \"Rodilla\",\n",
    "    \"Kicks\": \"Patadas\",\n",
    "    \"Spinning Back Kick\": \"Patada Circular\",\n",
    "    \"Spinning Back Fist\": \"Puñetazo Circular\",\n",
    "    \"Spinning Back Elbow\": \"Codazo Circular\",\n",
    "    \"Headbutts\": \"Cabezazos\",\n",
    "    \"Slam\": \"Golpe Bajo\"\n",
    "}\n",
    "\n",
    "golpes_list = list(dict_golpes.values())\n",
    "\n",
    "df_ko_golpes = df_2_filtro[\n",
    "    (df_2_filtro['Metodo'] == 'KO/TKO') & \n",
    "    (df_2_filtro['Detalles'].str.contains('|'.join(golpes_list), na=False))\n",
    "]\n",
    "conteo_ko_por_division = df_ko_golpes['Division'].value_counts()\n",
    "conteo_ko_por_division"
   ]
  },
  {
   "cell_type": "code",
   "execution_count": 415,
   "metadata": {},
   "outputs": [
    {
     "data": {
      "text/plain": [
       "Division\n",
       "Peso Welter          385\n",
       "Peso Medio           351\n",
       "Peso Pesado          351\n",
       "Peso Ligero          349\n",
       "Peso Semipesado      276\n",
       "Peso Gallo           222\n",
       "Peso Pluma           195\n",
       "Peso Mosca           107\n",
       "Peso Paja             38\n",
       "Peso Abierto          36\n",
       "Peso Pactado          18\n",
       "Peso Super Pesado      1\n",
       "Name: count, dtype: int64"
      ]
     },
     "execution_count": 415,
     "metadata": {},
     "output_type": "execute_result"
    }
   ],
   "source": [
    "conteo_ko_por_division = df_ko_golpes['Division'].value_counts()\n",
    "conteo_ko_por_division"
   ]
  },
  {
   "cell_type": "code",
   "execution_count": 416,
   "metadata": {},
   "outputs": [
    {
     "data": {
      "text/plain": [
       "Division\n",
       "Peso Ligero          640\n",
       "Peso Welter          626\n",
       "Peso Medio           569\n",
       "Peso Pesado          447\n",
       "Peso Semipesado      385\n",
       "Peso Gallo           385\n",
       "Peso Pluma           323\n",
       "Peso Mosca           223\n",
       "Peso Paja             97\n",
       "Peso Abierto          75\n",
       "Peso Pactado          33\n",
       "Peso Super Pesado      1\n",
       "Name: count, dtype: int64"
      ]
     },
     "execution_count": 416,
     "metadata": {},
     "output_type": "execute_result"
    }
   ],
   "source": [
    "conteo_total_por_division = df_2_filtro['Division'].value_counts()\n",
    "conteo_total_por_division"
   ]
  },
  {
   "cell_type": "code",
   "execution_count": 419,
   "metadata": {},
   "outputs": [
    {
     "data": {
      "text/plain": [
       "Division\n",
       "Peso Super Pesado    1.000000\n",
       "Peso Pesado          0.785235\n",
       "Peso Semipesado      0.716883\n",
       "Peso Medio           0.616872\n",
       "Peso Welter          0.615016\n",
       "Peso Pluma           0.603715\n",
       "Peso Gallo           0.576623\n",
       "Peso Pactado         0.545455\n",
       "Peso Ligero          0.545312\n",
       "Peso Abierto         0.480000\n",
       "Peso Mosca           0.479821\n",
       "Peso Paja            0.391753\n",
       "Name: count, dtype: float64"
      ]
     },
     "execution_count": 419,
     "metadata": {},
     "output_type": "execute_result"
    }
   ],
   "source": [
    "probabilidad_ko = conteo_ko_por_division / conteo_total_por_division\n",
    "probabilidad_ko.sort_values(ascending = False)"
   ]
  },
  {
   "cell_type": "code",
   "execution_count": 420,
   "metadata": {},
   "outputs": [
    {
     "data": {
      "image/png": "[encoded data removed]",
      "text/plain": [
       "<Figure size 1200x600 with 1 Axes>"
      ]
     },
     "metadata": {},
     "output_type": "display_data"
    }
   ],
   "source": [
    "plt.figure(figsize=(12, 6))\n",
    "plt.bar(probabilidad_ko.index, probabilidad_ko.values, color='skyblue')\n",
    "plt.title('Probabilidad de KOs por Golpes en Cada División')\n",
    "plt.xlabel('División')\n",
    "plt.ylabel('Probabilidad de KO (%)')\n",
    "plt.xticks(rotation=45)\n",
    "plt.ylim(0, 1)  # Limitar el eje Y de 0 a 1\n",
    "plt.axhline(0, color='black', lw=0.8)  # Línea en el eje X\n",
    "plt.grid(axis='y', linestyle='--', alpha=0.7)  # Líneas de cuadrícula\n",
    "plt.tight_layout()\n",
    "plt.show()"
   ]
  },
  {
   "cell_type": "markdown",
   "metadata": {},
   "source": [
    "6. EXTRA: Altura y Resultados de Pelea 📏🏆\n",
    "\n",
    "Del 1er dataset:\n",
    "height (altura del luchador)\n",
    "name (nombre del luchador)\n",
    "\n",
    "\n",
    "Del 2do dataset:\n",
    "r_fighter, b_fighter (nombres de los luchadores)\n",
    "status (resultado de la pelea para saber quién ganó)"
   ]
  },
  {
   "cell_type": "markdown",
   "metadata": {},
   "source": [
    "&nbsp;"
   ]
  },
  {
   "cell_type": "markdown",
   "metadata": {},
   "source": [
    "&nbsp;"
   ]
  }
 ],
 "metadata": {
  "kernelspec": {
   "display_name": "Python 3",
   "language": "python",
   "name": "python3"
  },
  "language_info": {
   "codemirror_mode": {
    "name": "ipython",
    "version": 3
   },
   "file_extension": ".py",
   "mimetype": "text/x-python",
   "name": "python",
   "nbconvert_exporter": "python",
   "pygments_lexer": "ipython3",
   "version": "3.12.5"
  }
 },
 "nbformat": 4,
 "nbformat_minor": 2
}
