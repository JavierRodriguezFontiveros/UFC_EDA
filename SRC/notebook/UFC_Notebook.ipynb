{
 "cells": [
  {
   "cell_type": "markdown",
   "metadata": {},
   "source": [
    "<p align=\"center\">\n",
    "  <img src=\"./UFC.jpg\" alt=\"Texto alternativo\" />\n",
    "</p>\n"
   ]
  },
  {
   "cell_type": "markdown",
   "metadata": {},
   "source": [
    "<h1 align=\"center\">Análisis exploratorio: Métricas de la UFC</h1>\n",
    "&nbsp; \n"
   ]
  },
  {
   "cell_type": "markdown",
   "metadata": {},
   "source": [
    "Este **EDA** se centra principalmente en abordar las hipótesis más comúnmente planteadas por los *\"opinólogos de bar\"* 🍻 en el mundo de los deportes de contacto 🥋.\n",
    "\n",
    "Ha sido realizada a través de la exploración de 2 **DATASETS** 📊 encontrados en [Kaggle](https://www.kaggle.com/)\n",
    "repletos de estadísticas específicas 📈 y haciendo **WebsCrapping** 🔍 para sacar alguna variable concreta más.\n",
    "\n",
    "Como conclusión **ofrecerá una perspectiva** más clara de **pasos a seguir** para llegar a ser campeón de la UFC🏆🏆.\n",
    "\n",
    "&nbsp; "
   ]
  },
  {
   "cell_type": "markdown",
   "metadata": {},
   "source": [
    "#### A lo largo del análisis, podrás ir visualizando los resultados de las **hipótesis** que han planteado esta investigación y el proceso de resolución de la misma:\n",
    "\n",
    "---\n",
    "\n",
    "##### [1. ¿Qué relación hay entre la **guardia** y el Éxito en la carrera? 🤼](#Guardia)\n",
    "\n",
    "##### [2. ¿Qué probabilidad hay de **ganar** respecto a una buena **defensa de derribo**? 🥋](#Defensa)\n",
    "\n",
    "##### [3. ¿Cómo afecta la **edad** en un enfrentamiento? 👵👦](#Edad)\n",
    "\n",
    "##### [4. ¿Es más probable ganar por **KO** en divisiones de **peso pesado** respecto a las demás? 💪⚖️](#KO's)\n",
    "\n",
    "##### [5. ¿Cómo influye la **altura** y el alcance? 📏](#Altura)\n",
    "\n",
    "---\n",
    "\n",
    "\n",
    "&nbsp;\n",
    "\n",
    "\n",
    "\n",
    "\n",
    "\n"
   ]
  },
  {
   "cell_type": "markdown",
   "metadata": {},
   "source": [
    "Ántes que nada, aquí una lista de las librerías que se han ido necesitando"
   ]
  },
  {
   "cell_type": "code",
   "execution_count": 135,
   "metadata": {},
   "outputs": [],
   "source": [
    "import pandas as pd\n",
    "import numpy as np\n",
    "import requests\n",
    "from bs4 import BeautifulSoup as bs"
   ]
  },
  {
   "cell_type": "markdown",
   "metadata": {},
   "source": [
    "Los **datasets recopilados** inicialmente no vienen con los datos estructurados y limpios como se necesitan para abordar las hipotésis.  \n",
    "Se procede a explicar los pasos seguidos:\n"
   ]
  },
  {
   "cell_type": "markdown",
   "metadata": {},
   "source": [
    "### **Data set:** Estadísticas de los peleadores"
   ]
  },
  {
   "cell_type": "code",
   "execution_count": 136,
   "metadata": {},
   "outputs": [
    {
     "data": {
      "text/html": [
       "<div>\n",
       "<style scoped>\n",
       "    .dataframe tbody tr th:only-of-type {\n",
       "        vertical-align: middle;\n",
       "    }\n",
       "\n",
       "    .dataframe tbody tr th {\n",
       "        vertical-align: top;\n",
       "    }\n",
       "\n",
       "    .dataframe thead th {\n",
       "        text-align: right;\n",
       "    }\n",
       "</style>\n",
       "<table border=\"1\" class=\"dataframe\">\n",
       "  <thead>\n",
       "    <tr style=\"text-align: right;\">\n",
       "      <th></th>\n",
       "      <th>name</th>\n",
       "      <th>wins</th>\n",
       "      <th>losses</th>\n",
       "      <th>height</th>\n",
       "      <th>weight</th>\n",
       "      <th>reach</th>\n",
       "      <th>stance</th>\n",
       "      <th>age</th>\n",
       "      <th>SLpM</th>\n",
       "      <th>sig_str_acc</th>\n",
       "      <th>SApM</th>\n",
       "      <th>str_def</th>\n",
       "      <th>td_avg</th>\n",
       "      <th>td_acc</th>\n",
       "      <th>td_def</th>\n",
       "      <th>sub_avg</th>\n",
       "    </tr>\n",
       "  </thead>\n",
       "  <tbody>\n",
       "    <tr>\n",
       "      <th>0</th>\n",
       "      <td>Amanda Ribas</td>\n",
       "      <td>12.0</td>\n",
       "      <td>5.0</td>\n",
       "      <td>160.02</td>\n",
       "      <td>56.70</td>\n",
       "      <td>167.64</td>\n",
       "      <td>Orthodox</td>\n",
       "      <td>30.0</td>\n",
       "      <td>4.63</td>\n",
       "      <td>0.40</td>\n",
       "      <td>3.40</td>\n",
       "      <td>0.61</td>\n",
       "      <td>2.07</td>\n",
       "      <td>0.51</td>\n",
       "      <td>0.85</td>\n",
       "      <td>0.7</td>\n",
       "    </tr>\n",
       "    <tr>\n",
       "      <th>1</th>\n",
       "      <td>Rose Namajunas</td>\n",
       "      <td>13.0</td>\n",
       "      <td>6.0</td>\n",
       "      <td>165.10</td>\n",
       "      <td>56.70</td>\n",
       "      <td>165.10</td>\n",
       "      <td>Orthodox</td>\n",
       "      <td>31.0</td>\n",
       "      <td>3.69</td>\n",
       "      <td>0.41</td>\n",
       "      <td>3.51</td>\n",
       "      <td>0.63</td>\n",
       "      <td>1.38</td>\n",
       "      <td>0.47</td>\n",
       "      <td>0.59</td>\n",
       "      <td>0.5</td>\n",
       "    </tr>\n",
       "    <tr>\n",
       "      <th>2</th>\n",
       "      <td>Karl Williams</td>\n",
       "      <td>10.0</td>\n",
       "      <td>1.0</td>\n",
       "      <td>190.50</td>\n",
       "      <td>106.59</td>\n",
       "      <td>200.66</td>\n",
       "      <td>Orthodox</td>\n",
       "      <td>34.0</td>\n",
       "      <td>2.87</td>\n",
       "      <td>0.52</td>\n",
       "      <td>1.70</td>\n",
       "      <td>0.60</td>\n",
       "      <td>4.75</td>\n",
       "      <td>0.50</td>\n",
       "      <td>1.00</td>\n",
       "      <td>0.2</td>\n",
       "    </tr>\n",
       "    <tr>\n",
       "      <th>3</th>\n",
       "      <td>Justin Tafa</td>\n",
       "      <td>7.0</td>\n",
       "      <td>4.0</td>\n",
       "      <td>182.88</td>\n",
       "      <td>119.75</td>\n",
       "      <td>187.96</td>\n",
       "      <td>Southpaw</td>\n",
       "      <td>30.0</td>\n",
       "      <td>4.09</td>\n",
       "      <td>0.54</td>\n",
       "      <td>5.02</td>\n",
       "      <td>0.47</td>\n",
       "      <td>0.00</td>\n",
       "      <td>0.00</td>\n",
       "      <td>0.50</td>\n",
       "      <td>0.0</td>\n",
       "    </tr>\n",
       "    <tr>\n",
       "      <th>4</th>\n",
       "      <td>Edmen Shahbazyan</td>\n",
       "      <td>13.0</td>\n",
       "      <td>4.0</td>\n",
       "      <td>187.96</td>\n",
       "      <td>83.91</td>\n",
       "      <td>190.50</td>\n",
       "      <td>Orthodox</td>\n",
       "      <td>26.0</td>\n",
       "      <td>3.60</td>\n",
       "      <td>0.52</td>\n",
       "      <td>4.09</td>\n",
       "      <td>0.45</td>\n",
       "      <td>2.24</td>\n",
       "      <td>0.38</td>\n",
       "      <td>0.63</td>\n",
       "      <td>0.6</td>\n",
       "    </tr>\n",
       "  </tbody>\n",
       "</table>\n",
       "</div>"
      ],
      "text/plain": [
       "               name  wins  losses  height  weight   reach    stance   age  \\\n",
       "0      Amanda Ribas  12.0     5.0  160.02   56.70  167.64  Orthodox  30.0   \n",
       "1    Rose Namajunas  13.0     6.0  165.10   56.70  165.10  Orthodox  31.0   \n",
       "2     Karl Williams  10.0     1.0  190.50  106.59  200.66  Orthodox  34.0   \n",
       "3       Justin Tafa   7.0     4.0  182.88  119.75  187.96  Southpaw  30.0   \n",
       "4  Edmen Shahbazyan  13.0     4.0  187.96   83.91  190.50  Orthodox  26.0   \n",
       "\n",
       "   SLpM  sig_str_acc  SApM  str_def  td_avg  td_acc  td_def  sub_avg  \n",
       "0  4.63         0.40  3.40     0.61    2.07    0.51    0.85      0.7  \n",
       "1  3.69         0.41  3.51     0.63    1.38    0.47    0.59      0.5  \n",
       "2  2.87         0.52  1.70     0.60    4.75    0.50    1.00      0.2  \n",
       "3  4.09         0.54  5.02     0.47    0.00    0.00    0.50      0.0  \n",
       "4  3.60         0.52  4.09     0.45    2.24    0.38    0.63      0.6  "
      ]
     },
     "execution_count": 136,
     "metadata": {},
     "output_type": "execute_result"
    }
   ],
   "source": [
    "#Leyendo DataSet de Peleadores\n",
    "estadisticas_peleador = pd.read_csv(\"../data/Estadisticas_peleador/estadisticas_peleador.csv\")\n",
    "fuente_1 = \"https://www.kaggle.com/datasets/maksbasher/ufc-complete-dataset-all-events-1996-2024/data\"\n",
    "estadisticas_peleador.head(5)"
   ]
  },
  {
   "cell_type": "code",
   "execution_count": 137,
   "metadata": {},
   "outputs": [
    {
     "name": "stdout",
     "output_type": "stream",
     "text": [
      "<class 'pandas.core.frame.DataFrame'>\n",
      "RangeIndex: 2479 entries, 0 to 2478\n",
      "Data columns (total 16 columns):\n",
      " #   Column       Non-Null Count  Dtype  \n",
      "---  ------       --------------  -----  \n",
      " 0   name         2478 non-null   object \n",
      " 1   wins         2478 non-null   float64\n",
      " 2   losses       2478 non-null   float64\n",
      " 3   height       2478 non-null   float64\n",
      " 4   weight       2478 non-null   float64\n",
      " 5   reach        1823 non-null   float64\n",
      " 6   stance       2401 non-null   object \n",
      " 7   age          2318 non-null   float64\n",
      " 8   SLpM         2478 non-null   float64\n",
      " 9   sig_str_acc  2478 non-null   float64\n",
      " 10  SApM         2478 non-null   float64\n",
      " 11  str_def      2478 non-null   float64\n",
      " 12  td_avg       2478 non-null   float64\n",
      " 13  td_acc       2478 non-null   float64\n",
      " 14  td_def       2478 non-null   float64\n",
      " 15  sub_avg      2478 non-null   float64\n",
      "dtypes: float64(14), object(2)\n",
      "memory usage: 310.0+ KB\n"
     ]
    }
   ],
   "source": [
    "#Comprobando los Missing-Values\n",
    "estadisticas_peleador.info() "
   ]
  },
  {
   "cell_type": "code",
   "execution_count": 138,
   "metadata": {},
   "outputs": [],
   "source": [
    "#Creando la copia:\n",
    "df_1 = estadisticas_peleador.copy()"
   ]
  },
  {
   "cell_type": "markdown",
   "metadata": {},
   "source": [
    "#### Para mayor compresión del análisis se iran **traduciendo** los datasets."
   ]
  },
  {
   "cell_type": "code",
   "execution_count": 139,
   "metadata": {},
   "outputs": [],
   "source": [
    "#Diccionarios de traducción:\n",
    "\n",
    "ingles_columnas1 = ['name', 'wins', 'losses', 'height', 'weight', 'reach', 'stance', 'age',\n",
    "                    'SLpM', 'sig_str_acc', 'SApM', 'str_def', 'td_avg', 'td_acc', 'td_def',\n",
    "                    'sub_avg']\n",
    "\n",
    "español_columnas1= [\"Nombre\",\"Victorias\",\"Derrotas\",\"Altura\",\"Peso\",\"Alcance\",\n",
    "                    \"Guardia\",\"Edad\",\"Golpes_min\",\"Golpes_acer\",\"Golpes_abs\",\n",
    "                    \"Golpes_def\",\"Derribos_med\",\"Derribos_acer\", \"Derribos_def\",\n",
    "                    \"Sumision_int\"]\n",
    "\n",
    "guardia_dict = {'Orthodox':'Ortodoxo', 'Southpaw':'Zurdo', 'Switch':'Ambidiestro', 'Open Stance':'Guardia Baja'}"
   ]
  },
  {
   "cell_type": "code",
   "execution_count": 140,
   "metadata": {},
   "outputs": [],
   "source": [
    "#Traduciendo:\n",
    "df_1.rename(columns=dict(zip(ingles_columnas1, español_columnas1)), inplace=True)\n",
    "df_1['Guardia'] = df_1['Guardia'].replace({**guardia_dict})"
   ]
  },
  {
   "cell_type": "code",
   "execution_count": 141,
   "metadata": {},
   "outputs": [],
   "source": [
    "#Eliminando las filas que contengan algún missing-values:\n",
    "df_1.dropna(subset=['Alcance', 'Guardia', 'Edad'], inplace=True)\n"
   ]
  },
  {
   "cell_type": "code",
   "execution_count": 142,
   "metadata": {},
   "outputs": [
    {
     "data": {
      "text/html": [
       "<div>\n",
       "<style scoped>\n",
       "    .dataframe tbody tr th:only-of-type {\n",
       "        vertical-align: middle;\n",
       "    }\n",
       "\n",
       "    .dataframe tbody tr th {\n",
       "        vertical-align: top;\n",
       "    }\n",
       "\n",
       "    .dataframe thead th {\n",
       "        text-align: right;\n",
       "    }\n",
       "</style>\n",
       "<table border=\"1\" class=\"dataframe\">\n",
       "  <thead>\n",
       "    <tr style=\"text-align: right;\">\n",
       "      <th></th>\n",
       "      <th>Nombre</th>\n",
       "      <th>Victorias</th>\n",
       "      <th>Derrotas</th>\n",
       "      <th>Altura</th>\n",
       "      <th>Peso</th>\n",
       "      <th>Alcance</th>\n",
       "      <th>Guardia</th>\n",
       "      <th>Edad</th>\n",
       "      <th>Golpes_min</th>\n",
       "      <th>Golpes_acer</th>\n",
       "      <th>Golpes_abs</th>\n",
       "      <th>Golpes_def</th>\n",
       "      <th>Derribos_med</th>\n",
       "      <th>Derribos_acer</th>\n",
       "      <th>Derribos_def</th>\n",
       "      <th>Sumision_int</th>\n",
       "    </tr>\n",
       "  </thead>\n",
       "  <tbody>\n",
       "    <tr>\n",
       "      <th>382</th>\n",
       "      <td>Bruno Silva</td>\n",
       "      <td>23.0</td>\n",
       "      <td>10.0</td>\n",
       "      <td>182.88</td>\n",
       "      <td>83.91</td>\n",
       "      <td>187.96</td>\n",
       "      <td>Ortodoxo</td>\n",
       "      <td>34.0</td>\n",
       "      <td>4.43</td>\n",
       "      <td>0.51</td>\n",
       "      <td>5.33</td>\n",
       "      <td>0.43</td>\n",
       "      <td>1.09</td>\n",
       "      <td>0.27</td>\n",
       "      <td>0.73</td>\n",
       "      <td>0.0</td>\n",
       "    </tr>\n",
       "    <tr>\n",
       "      <th>638</th>\n",
       "      <td>Bruno Silva</td>\n",
       "      <td>13.0</td>\n",
       "      <td>5.0</td>\n",
       "      <td>162.56</td>\n",
       "      <td>56.70</td>\n",
       "      <td>165.10</td>\n",
       "      <td>Ortodoxo</td>\n",
       "      <td>34.0</td>\n",
       "      <td>3.05</td>\n",
       "      <td>0.46</td>\n",
       "      <td>3.09</td>\n",
       "      <td>0.59</td>\n",
       "      <td>2.57</td>\n",
       "      <td>0.30</td>\n",
       "      <td>0.64</td>\n",
       "      <td>0.3</td>\n",
       "    </tr>\n",
       "    <tr>\n",
       "      <th>1879</th>\n",
       "      <td>Edward Faaloloto</td>\n",
       "      <td>2.0</td>\n",
       "      <td>5.0</td>\n",
       "      <td>185.42</td>\n",
       "      <td>70.31</td>\n",
       "      <td>177.80</td>\n",
       "      <td>Ortodoxo</td>\n",
       "      <td>39.0</td>\n",
       "      <td>2.28</td>\n",
       "      <td>0.32</td>\n",
       "      <td>6.25</td>\n",
       "      <td>0.44</td>\n",
       "      <td>1.01</td>\n",
       "      <td>0.25</td>\n",
       "      <td>0.33</td>\n",
       "      <td>0.0</td>\n",
       "    </tr>\n",
       "    <tr>\n",
       "      <th>1897</th>\n",
       "      <td>Edward Faaloloto</td>\n",
       "      <td>2.0</td>\n",
       "      <td>5.0</td>\n",
       "      <td>177.80</td>\n",
       "      <td>70.31</td>\n",
       "      <td>177.80</td>\n",
       "      <td>Ortodoxo</td>\n",
       "      <td>39.0</td>\n",
       "      <td>2.28</td>\n",
       "      <td>0.32</td>\n",
       "      <td>6.25</td>\n",
       "      <td>0.44</td>\n",
       "      <td>1.01</td>\n",
       "      <td>0.25</td>\n",
       "      <td>0.33</td>\n",
       "      <td>0.0</td>\n",
       "    </tr>\n",
       "  </tbody>\n",
       "</table>\n",
       "</div>"
      ],
      "text/plain": [
       "                Nombre  Victorias  Derrotas  Altura   Peso  Alcance   Guardia  \\\n",
       "382        Bruno Silva       23.0      10.0  182.88  83.91   187.96  Ortodoxo   \n",
       "638        Bruno Silva       13.0       5.0  162.56  56.70   165.10  Ortodoxo   \n",
       "1879  Edward Faaloloto        2.0       5.0  185.42  70.31   177.80  Ortodoxo   \n",
       "1897  Edward Faaloloto        2.0       5.0  177.80  70.31   177.80  Ortodoxo   \n",
       "\n",
       "      Edad  Golpes_min  Golpes_acer  Golpes_abs  Golpes_def  Derribos_med  \\\n",
       "382   34.0        4.43         0.51        5.33        0.43          1.09   \n",
       "638   34.0        3.05         0.46        3.09        0.59          2.57   \n",
       "1879  39.0        2.28         0.32        6.25        0.44          1.01   \n",
       "1897  39.0        2.28         0.32        6.25        0.44          1.01   \n",
       "\n",
       "      Derribos_acer  Derribos_def  Sumision_int  \n",
       "382            0.27          0.73           0.0  \n",
       "638            0.30          0.64           0.3  \n",
       "1879           0.25          0.33           0.0  \n",
       "1897           0.25          0.33           0.0  "
      ]
     },
     "execution_count": 142,
     "metadata": {},
     "output_type": "execute_result"
    }
   ],
   "source": [
    "#Comprobando si hay peleadores duplicados:\n",
    "peleadores_duplicados = df_1['Nombre'].duplicated().sum()\n",
    "df_1[df_1['Nombre'].duplicated(keep= False)]"
   ]
  },
  {
   "cell_type": "markdown",
   "metadata": {},
   "source": [
    "El peleador **Bruno silva** se actualizó con mayor número de victorias asi que debemos borrar la fila antigua.  \n",
    "\n",
    "Edward **Faaloloto** simplemente hubo una confusión con su altura, se queda el valor mas alto."
   ]
  },
  {
   "cell_type": "code",
   "execution_count": 143,
   "metadata": {},
   "outputs": [],
   "source": [
    "#Eliminando peleadores duplicados:\n",
    "df_1.drop([638, 1897], inplace=True)"
   ]
  },
  {
   "cell_type": "markdown",
   "metadata": {},
   "source": [
    "La **nacionalidad** de los peleadores no estaba definida en el dataset, así que se procederá a hacer **WebsCrapping** de la *\"wikipedia\"*.  \n",
    "\n",
    "La **función principal** quedará encapsulada en una clase en [MainWebscrapping.py](../utils/MainWebscrapping.py) y función de *\"obtener_nacionalidad\"* en [Webscrapping.py](../utils/Webscrapping.py).\n",
    "\n",
    "Se generara un ***\".csv\"*** con los luchadores y su nacionalidad."
   ]
  },
  {
   "cell_type": "code",
   "execution_count": 144,
   "metadata": {},
   "outputs": [
    {
     "data": {
      "text/html": [
       "<div>\n",
       "<style scoped>\n",
       "    .dataframe tbody tr th:only-of-type {\n",
       "        vertical-align: middle;\n",
       "    }\n",
       "\n",
       "    .dataframe tbody tr th {\n",
       "        vertical-align: top;\n",
       "    }\n",
       "\n",
       "    .dataframe thead th {\n",
       "        text-align: right;\n",
       "    }\n",
       "</style>\n",
       "<table border=\"1\" class=\"dataframe\">\n",
       "  <thead>\n",
       "    <tr style=\"text-align: right;\">\n",
       "      <th></th>\n",
       "      <th>Luchador</th>\n",
       "      <th>Nacionalidad</th>\n",
       "    </tr>\n",
       "  </thead>\n",
       "  <tbody>\n",
       "    <tr>\n",
       "      <th>0</th>\n",
       "      <td>Amanda Ribas</td>\n",
       "      <td>Brasileña</td>\n",
       "    </tr>\n",
       "    <tr>\n",
       "      <th>1</th>\n",
       "      <td>Rose Namajunas</td>\n",
       "      <td>EstadounidenseLituana</td>\n",
       "    </tr>\n",
       "    <tr>\n",
       "      <th>2</th>\n",
       "      <td>Karl Williams</td>\n",
       "      <td>missingvalue</td>\n",
       "    </tr>\n",
       "    <tr>\n",
       "      <th>3</th>\n",
       "      <td>Justin Tafa</td>\n",
       "      <td>Neozelandés</td>\n",
       "    </tr>\n",
       "    <tr>\n",
       "      <th>4</th>\n",
       "      <td>Edmen Shahbazyan</td>\n",
       "      <td>Estadounidense</td>\n",
       "    </tr>\n",
       "  </tbody>\n",
       "</table>\n",
       "</div>"
      ],
      "text/plain": [
       "           Luchador           Nacionalidad\n",
       "0      Amanda Ribas              Brasileña\n",
       "1    Rose Namajunas  EstadounidenseLituana\n",
       "2     Karl Williams           missingvalue\n",
       "3       Justin Tafa            Neozelandés\n",
       "4  Edmen Shahbazyan         Estadounidense"
      ]
     },
     "execution_count": 144,
     "metadata": {},
     "output_type": "execute_result"
    }
   ],
   "source": [
    "#Leyendo csv:\n",
    "nacionalidad_peleador = pd.read_csv(\"../data/Nacionalidad_peleador/nacionalidades_luchadores.csv\")\n",
    "nacionalidad_peleador.head()"
   ]
  },
  {
   "cell_type": "code",
   "execution_count": 145,
   "metadata": {},
   "outputs": [],
   "source": [
    "#Insertando columna \"Nacionalidad\" \n",
    "nacionalidad = nacionalidad_peleador.iloc[:, 1]  \n",
    "estadisticas_peleador = df_1.insert(1, 'Pais', nacionalidad)"
   ]
  },
  {
   "cell_type": "code",
   "execution_count": 146,
   "metadata": {},
   "outputs": [],
   "source": [
    "# Eliminar filas con NaN solo en la columna 'Nacionalidad'\n",
    "df_1_clean = df_1.dropna(subset=['Pais'])\n",
    "df_1_clean= df_1_clean[~df_1_clean['Pais'].str.contains('missingvalue', na=False)] \n",
    "   "
   ]
  },
  {
   "cell_type": "markdown",
   "metadata": {},
   "source": [
    "Los países no estan normalizados, se utilizará un diccionario para corregir ese error."
   ]
  },
  {
   "cell_type": "code",
   "execution_count": 147,
   "metadata": {},
   "outputs": [],
   "source": [
    "# Diccionario paises normalizados\n",
    "pais_dict = {'estado': 'Estados Unidos', 'brasi': 'Brasil', 'mexic': 'México', 'finlan': 'Finlandia','pana': 'Panamá',\n",
    "            'cuba': 'Cuba', 'esp': 'España', 'arme': 'Armenia', 'nige': 'Nigeria','rus': 'Rusia','uzb': 'Uzbekistán',\n",
    "            'ingl': 'Inglaterra','chi': 'China', 'neoze': 'Nueva Zelanda', 'suda': 'Sudáfrica', 'marr': 'Marruecos',\n",
    "            'austr': 'Australia','pola': 'Polonia','sue': 'Suecia','isra': 'Israel','gale': 'Gales','ecua': 'Ecuador',\n",
    "            'brit': 'Inglaterra','esco': 'Escocia','ucra': 'Ucrania','suri': 'Surinam','fili': 'Filipinas','canad': 'Canadá',\n",
    "            'afg': 'Afganistán','argen': 'Argentina','peru': 'Perú','tay': 'Tayikistán','georg': 'Georgia','jap': 'Japón',\n",
    "            'fran': 'Francia','ita': 'Italia','ira': 'Irak','puerto': 'Puerto Rico','urug': 'Uruguay','tún': 'Túnez',\n",
    "            'rum': 'Rumanía','let': 'Letonia','neerl': 'Holanda','irla': 'Irlanda','belg': 'Bélgica','costar': 'Costa Rica',\n",
    "            'portu': 'Portugal','cro': 'Croacia','grie': 'Grecia','dane': 'Dinamarca','boliv': 'Bolivia','liban': 'Líbano',\n",
    "            'kaz': 'Kazajistán','surcor': 'Corea del Sur','cameru': 'Camerún','bosn': 'Bosnia','guya': 'Guyana',\n",
    "            'búlg': 'Bulgaria','colom': 'Colombia','isla': 'Islandia','tail': 'Tailandia', 'litu': 'Lituania', \n",
    "            'ale': 'Alemania','suiz': 'Suiza','serb': 'Serbia','congo': 'Congo','ghan': 'Ghana','molda': 'Moldavia',\n",
    "            'kirg': 'Kirguistán','jama': 'Jamaica','holand': 'Holanda'}"
   ]
  },
  {
   "cell_type": "code",
   "execution_count": 148,
   "metadata": {},
   "outputs": [],
   "source": [
    "#Remplazando Países normalizados:\n",
    "\n",
    "def reemplazar_pais(pais):\n",
    "    pais_lower = pais.lower() \n",
    "    for clave, nombre in pais_dict.items():\n",
    "        if clave in pais_lower:\n",
    "            return nombre\n",
    "    return pais  \n",
    "\n",
    "df_1_clean['Pais'] = df_1_clean['Pais'].apply(reemplazar_pais)\n",
    "\n",
    "#print(f\"Paises únicos: {df_1_clean['Pais'].unique()}\")\n"
   ]
  },
  {
   "cell_type": "code",
   "execution_count": 149,
   "metadata": {},
   "outputs": [],
   "source": [
    "#Añadiento Países normalizados al DataFrame\n",
    "df_1_clean['Pais'] = df_1_clean['Pais'].apply(reemplazar_pais)"
   ]
  },
  {
   "cell_type": "code",
   "execution_count": 150,
   "metadata": {},
   "outputs": [],
   "source": [
    "#Reseteamos el indice:\n",
    "df_1_clean.reset_index(drop=True, inplace=True)\n"
   ]
  },
  {
   "cell_type": "code",
   "execution_count": 151,
   "metadata": {},
   "outputs": [],
   "source": [
    "#Guardando DataFrame en csv:\n",
    "#df_1_clean.to_csv(\"../data/Estadisticas_peleador/Estadisticas_peleador_limpio.csv\")\n"
   ]
  },
  {
   "cell_type": "code",
   "execution_count": 152,
   "metadata": {},
   "outputs": [
    {
     "data": {
      "text/html": [
       "<div>\n",
       "<style scoped>\n",
       "    .dataframe tbody tr th:only-of-type {\n",
       "        vertical-align: middle;\n",
       "    }\n",
       "\n",
       "    .dataframe tbody tr th {\n",
       "        vertical-align: top;\n",
       "    }\n",
       "\n",
       "    .dataframe thead th {\n",
       "        text-align: right;\n",
       "    }\n",
       "</style>\n",
       "<table border=\"1\" class=\"dataframe\">\n",
       "  <thead>\n",
       "    <tr style=\"text-align: right;\">\n",
       "      <th></th>\n",
       "      <th>Nombre</th>\n",
       "      <th>Pais</th>\n",
       "      <th>Victorias</th>\n",
       "      <th>Derrotas</th>\n",
       "      <th>Altura</th>\n",
       "      <th>Peso</th>\n",
       "      <th>Alcance</th>\n",
       "      <th>Guardia</th>\n",
       "      <th>Edad</th>\n",
       "      <th>Golpes_min</th>\n",
       "      <th>Golpes_acer</th>\n",
       "      <th>Golpes_abs</th>\n",
       "      <th>Golpes_def</th>\n",
       "      <th>Derribos_med</th>\n",
       "      <th>Derribos_acer</th>\n",
       "      <th>Derribos_def</th>\n",
       "      <th>Sumision_int</th>\n",
       "    </tr>\n",
       "  </thead>\n",
       "  <tbody>\n",
       "    <tr>\n",
       "      <th>0</th>\n",
       "      <td>Amanda Ribas</td>\n",
       "      <td>Brasil</td>\n",
       "      <td>12.0</td>\n",
       "      <td>5.0</td>\n",
       "      <td>160.02</td>\n",
       "      <td>56.70</td>\n",
       "      <td>167.64</td>\n",
       "      <td>Ortodoxo</td>\n",
       "      <td>30.0</td>\n",
       "      <td>4.63</td>\n",
       "      <td>0.40</td>\n",
       "      <td>3.40</td>\n",
       "      <td>0.61</td>\n",
       "      <td>2.07</td>\n",
       "      <td>0.51</td>\n",
       "      <td>0.85</td>\n",
       "      <td>0.7</td>\n",
       "    </tr>\n",
       "    <tr>\n",
       "      <th>1</th>\n",
       "      <td>Rose Namajunas</td>\n",
       "      <td>Estados Unidos</td>\n",
       "      <td>13.0</td>\n",
       "      <td>6.0</td>\n",
       "      <td>165.10</td>\n",
       "      <td>56.70</td>\n",
       "      <td>165.10</td>\n",
       "      <td>Ortodoxo</td>\n",
       "      <td>31.0</td>\n",
       "      <td>3.69</td>\n",
       "      <td>0.41</td>\n",
       "      <td>3.51</td>\n",
       "      <td>0.63</td>\n",
       "      <td>1.38</td>\n",
       "      <td>0.47</td>\n",
       "      <td>0.59</td>\n",
       "      <td>0.5</td>\n",
       "    </tr>\n",
       "    <tr>\n",
       "      <th>2</th>\n",
       "      <td>Justin Tafa</td>\n",
       "      <td>Nueva Zelanda</td>\n",
       "      <td>7.0</td>\n",
       "      <td>4.0</td>\n",
       "      <td>182.88</td>\n",
       "      <td>119.75</td>\n",
       "      <td>187.96</td>\n",
       "      <td>Zurdo</td>\n",
       "      <td>30.0</td>\n",
       "      <td>4.09</td>\n",
       "      <td>0.54</td>\n",
       "      <td>5.02</td>\n",
       "      <td>0.47</td>\n",
       "      <td>0.00</td>\n",
       "      <td>0.00</td>\n",
       "      <td>0.50</td>\n",
       "      <td>0.0</td>\n",
       "    </tr>\n",
       "    <tr>\n",
       "      <th>3</th>\n",
       "      <td>Edmen Shahbazyan</td>\n",
       "      <td>Estados Unidos</td>\n",
       "      <td>13.0</td>\n",
       "      <td>4.0</td>\n",
       "      <td>187.96</td>\n",
       "      <td>83.91</td>\n",
       "      <td>190.50</td>\n",
       "      <td>Ortodoxo</td>\n",
       "      <td>26.0</td>\n",
       "      <td>3.60</td>\n",
       "      <td>0.52</td>\n",
       "      <td>4.09</td>\n",
       "      <td>0.45</td>\n",
       "      <td>2.24</td>\n",
       "      <td>0.38</td>\n",
       "      <td>0.63</td>\n",
       "      <td>0.6</td>\n",
       "    </tr>\n",
       "    <tr>\n",
       "      <th>4</th>\n",
       "      <td>Payton Talbott</td>\n",
       "      <td>Estados Unidos</td>\n",
       "      <td>8.0</td>\n",
       "      <td>0.0</td>\n",
       "      <td>177.80</td>\n",
       "      <td>61.23</td>\n",
       "      <td>177.80</td>\n",
       "      <td>Ambidiestro</td>\n",
       "      <td>25.0</td>\n",
       "      <td>8.05</td>\n",
       "      <td>0.54</td>\n",
       "      <td>3.58</td>\n",
       "      <td>0.51</td>\n",
       "      <td>0.00</td>\n",
       "      <td>0.00</td>\n",
       "      <td>0.90</td>\n",
       "      <td>0.5</td>\n",
       "    </tr>\n",
       "  </tbody>\n",
       "</table>\n",
       "</div>"
      ],
      "text/plain": [
       "             Nombre            Pais  Victorias  Derrotas  Altura    Peso  \\\n",
       "0      Amanda Ribas          Brasil       12.0       5.0  160.02   56.70   \n",
       "1    Rose Namajunas  Estados Unidos       13.0       6.0  165.10   56.70   \n",
       "2       Justin Tafa   Nueva Zelanda        7.0       4.0  182.88  119.75   \n",
       "3  Edmen Shahbazyan  Estados Unidos       13.0       4.0  187.96   83.91   \n",
       "4    Payton Talbott  Estados Unidos        8.0       0.0  177.80   61.23   \n",
       "\n",
       "   Alcance      Guardia  Edad  Golpes_min  Golpes_acer  Golpes_abs  \\\n",
       "0   167.64     Ortodoxo  30.0        4.63         0.40        3.40   \n",
       "1   165.10     Ortodoxo  31.0        3.69         0.41        3.51   \n",
       "2   187.96        Zurdo  30.0        4.09         0.54        5.02   \n",
       "3   190.50     Ortodoxo  26.0        3.60         0.52        4.09   \n",
       "4   177.80  Ambidiestro  25.0        8.05         0.54        3.58   \n",
       "\n",
       "   Golpes_def  Derribos_med  Derribos_acer  Derribos_def  Sumision_int  \n",
       "0        0.61          2.07           0.51          0.85           0.7  \n",
       "1        0.63          1.38           0.47          0.59           0.5  \n",
       "2        0.47          0.00           0.00          0.50           0.0  \n",
       "3        0.45          2.24           0.38          0.63           0.6  \n",
       "4        0.51          0.00           0.00          0.90           0.5  "
      ]
     },
     "execution_count": 152,
     "metadata": {},
     "output_type": "execute_result"
    }
   ],
   "source": [
    "#Estadisticas_peleador_limpio:\n",
    "df_1_clean.head()"
   ]
  },
  {
   "cell_type": "markdown",
   "metadata": {},
   "source": [
    "### Variables totales:\n",
    "\n",
    "- **Peleadores**: 694 🥊\n",
    "\n",
    "- **Métricas**: 17 📒\n",
    "\n",
    "&nbsp; "
   ]
  },
  {
   "cell_type": "markdown",
   "metadata": {},
   "source": [
    "### Continuamos con la **limpieza** del siguiente set de datos ***\"Enfrentamientos\"***"
   ]
  },
  {
   "cell_type": "code",
   "execution_count": 153,
   "metadata": {},
   "outputs": [
    {
     "data": {
      "text/html": [
       "<div>\n",
       "<style scoped>\n",
       "    .dataframe tbody tr th:only-of-type {\n",
       "        vertical-align: middle;\n",
       "    }\n",
       "\n",
       "    .dataframe tbody tr th {\n",
       "        vertical-align: top;\n",
       "    }\n",
       "\n",
       "    .dataframe thead th {\n",
       "        text-align: right;\n",
       "    }\n",
       "</style>\n",
       "<table border=\"1\" class=\"dataframe\">\n",
       "  <thead>\n",
       "    <tr style=\"text-align: right;\">\n",
       "      <th></th>\n",
       "      <th>event</th>\n",
       "      <th>date</th>\n",
       "      <th>location</th>\n",
       "      <th>r_fighter</th>\n",
       "      <th>b_fighter</th>\n",
       "      <th>status</th>\n",
       "      <th>r_kd</th>\n",
       "      <th>b_kd</th>\n",
       "      <th>r_str</th>\n",
       "      <th>b_str</th>\n",
       "      <th>r_td</th>\n",
       "      <th>b_td</th>\n",
       "      <th>r_sub</th>\n",
       "      <th>b_sub</th>\n",
       "      <th>weight_class</th>\n",
       "      <th>method</th>\n",
       "      <th>method_detailed</th>\n",
       "      <th>round</th>\n",
       "      <th>time</th>\n",
       "    </tr>\n",
       "  </thead>\n",
       "  <tbody>\n",
       "    <tr>\n",
       "      <th>0</th>\n",
       "      <td>UFC Fight Night: Ribas vs. Namajunas</td>\n",
       "      <td>3/23/2024</td>\n",
       "      <td>Las Vegas, Nevada, USA</td>\n",
       "      <td>Rose Namajunas</td>\n",
       "      <td>Amanda Ribas</td>\n",
       "      <td>win</td>\n",
       "      <td>0.0</td>\n",
       "      <td>0.0</td>\n",
       "      <td>93.0</td>\n",
       "      <td>83.0</td>\n",
       "      <td>1.0</td>\n",
       "      <td>4.0</td>\n",
       "      <td>0.0</td>\n",
       "      <td>0.0</td>\n",
       "      <td>Women's Flyweight</td>\n",
       "      <td>U-DEC</td>\n",
       "      <td>NaN</td>\n",
       "      <td>5.0</td>\n",
       "      <td>5:00</td>\n",
       "    </tr>\n",
       "    <tr>\n",
       "      <th>1</th>\n",
       "      <td>UFC Fight Night: Ribas vs. Namajunas</td>\n",
       "      <td>3/23/2024</td>\n",
       "      <td>Las Vegas, Nevada, USA</td>\n",
       "      <td>Karl Williams</td>\n",
       "      <td>Justin Tafa</td>\n",
       "      <td>win</td>\n",
       "      <td>0.0</td>\n",
       "      <td>0.0</td>\n",
       "      <td>40.0</td>\n",
       "      <td>21.0</td>\n",
       "      <td>7.0</td>\n",
       "      <td>0.0</td>\n",
       "      <td>1.0</td>\n",
       "      <td>0.0</td>\n",
       "      <td>Heavyweight</td>\n",
       "      <td>U-DEC</td>\n",
       "      <td>NaN</td>\n",
       "      <td>3.0</td>\n",
       "      <td>5:00</td>\n",
       "    </tr>\n",
       "    <tr>\n",
       "      <th>2</th>\n",
       "      <td>UFC Fight Night: Ribas vs. Namajunas</td>\n",
       "      <td>3/23/2024</td>\n",
       "      <td>Las Vegas, Nevada, USA</td>\n",
       "      <td>Edmen Shahbazyan</td>\n",
       "      <td>AJ Dobson</td>\n",
       "      <td>win</td>\n",
       "      <td>1.0</td>\n",
       "      <td>0.0</td>\n",
       "      <td>27.0</td>\n",
       "      <td>15.0</td>\n",
       "      <td>1.0</td>\n",
       "      <td>0.0</td>\n",
       "      <td>0.0</td>\n",
       "      <td>0.0</td>\n",
       "      <td>Middleweight</td>\n",
       "      <td>KO/TKO</td>\n",
       "      <td>Punches</td>\n",
       "      <td>1.0</td>\n",
       "      <td>4:33</td>\n",
       "    </tr>\n",
       "    <tr>\n",
       "      <th>3</th>\n",
       "      <td>UFC Fight Night: Ribas vs. Namajunas</td>\n",
       "      <td>3/23/2024</td>\n",
       "      <td>Las Vegas, Nevada, USA</td>\n",
       "      <td>Payton Talbott</td>\n",
       "      <td>Cameron Saaiman</td>\n",
       "      <td>win</td>\n",
       "      <td>1.0</td>\n",
       "      <td>0.0</td>\n",
       "      <td>79.0</td>\n",
       "      <td>31.0</td>\n",
       "      <td>0.0</td>\n",
       "      <td>0.0</td>\n",
       "      <td>0.0</td>\n",
       "      <td>0.0</td>\n",
       "      <td>Bantamweight</td>\n",
       "      <td>KO/TKO</td>\n",
       "      <td>Punches</td>\n",
       "      <td>2.0</td>\n",
       "      <td>0:21</td>\n",
       "    </tr>\n",
       "    <tr>\n",
       "      <th>4</th>\n",
       "      <td>UFC Fight Night: Ribas vs. Namajunas</td>\n",
       "      <td>3/23/2024</td>\n",
       "      <td>Las Vegas, Nevada, USA</td>\n",
       "      <td>Youssef Zalal</td>\n",
       "      <td>Billy Quarantillo</td>\n",
       "      <td>win</td>\n",
       "      <td>0.0</td>\n",
       "      <td>0.0</td>\n",
       "      <td>33.0</td>\n",
       "      <td>10.0</td>\n",
       "      <td>2.0</td>\n",
       "      <td>0.0</td>\n",
       "      <td>2.0</td>\n",
       "      <td>0.0</td>\n",
       "      <td>Featherweight</td>\n",
       "      <td>SUB</td>\n",
       "      <td>Rear Naked Choke</td>\n",
       "      <td>2.0</td>\n",
       "      <td>1:50</td>\n",
       "    </tr>\n",
       "  </tbody>\n",
       "</table>\n",
       "</div>"
      ],
      "text/plain": [
       "                                  event       date                location  \\\n",
       "0  UFC Fight Night: Ribas vs. Namajunas  3/23/2024  Las Vegas, Nevada, USA   \n",
       "1  UFC Fight Night: Ribas vs. Namajunas  3/23/2024  Las Vegas, Nevada, USA   \n",
       "2  UFC Fight Night: Ribas vs. Namajunas  3/23/2024  Las Vegas, Nevada, USA   \n",
       "3  UFC Fight Night: Ribas vs. Namajunas  3/23/2024  Las Vegas, Nevada, USA   \n",
       "4  UFC Fight Night: Ribas vs. Namajunas  3/23/2024  Las Vegas, Nevada, USA   \n",
       "\n",
       "          r_fighter          b_fighter status  r_kd  b_kd  r_str  b_str  r_td  \\\n",
       "0    Rose Namajunas       Amanda Ribas    win   0.0   0.0   93.0   83.0   1.0   \n",
       "1     Karl Williams        Justin Tafa    win   0.0   0.0   40.0   21.0   7.0   \n",
       "2  Edmen Shahbazyan          AJ Dobson    win   1.0   0.0   27.0   15.0   1.0   \n",
       "3    Payton Talbott    Cameron Saaiman    win   1.0   0.0   79.0   31.0   0.0   \n",
       "4     Youssef Zalal  Billy Quarantillo    win   0.0   0.0   33.0   10.0   2.0   \n",
       "\n",
       "   b_td  r_sub  b_sub       weight_class  method   method_detailed  round  \\\n",
       "0   4.0    0.0    0.0  Women's Flyweight   U-DEC               NaN    5.0   \n",
       "1   0.0    1.0    0.0        Heavyweight   U-DEC               NaN    3.0   \n",
       "2   0.0    0.0    0.0       Middleweight  KO/TKO           Punches    1.0   \n",
       "3   0.0    0.0    0.0       Bantamweight  KO/TKO           Punches    2.0   \n",
       "4   0.0    2.0    0.0      Featherweight     SUB  Rear Naked Choke    2.0   \n",
       "\n",
       "   time  \n",
       "0  5:00  \n",
       "1  5:00  \n",
       "2  4:33  \n",
       "3  0:21  \n",
       "4  1:50  "
      ]
     },
     "execution_count": 153,
     "metadata": {},
     "output_type": "execute_result"
    }
   ],
   "source": [
    "#Leyendo DataSet de Enfrentamientos\n",
    "enfrentamientos = pd.read_csv(\"../data/Enfrentamientos/Enfrentamientos.csv\")\n",
    "fuente_2 = \"https://www.kaggle.com/datasets/maksbasher/ufc-complete-dataset-all-events-1996-2024/data\"\n",
    "enfrentamientos.head(5)"
   ]
  },
  {
   "cell_type": "code",
   "execution_count": 154,
   "metadata": {},
   "outputs": [
    {
     "name": "stdout",
     "output_type": "stream",
     "text": [
      "<class 'pandas.core.frame.DataFrame'>\n",
      "RangeIndex: 7582 entries, 0 to 7581\n",
      "Data columns (total 19 columns):\n",
      " #   Column           Non-Null Count  Dtype  \n",
      "---  ------           --------------  -----  \n",
      " 0   event            7497 non-null   object \n",
      " 1   date             7497 non-null   object \n",
      " 2   location         7497 non-null   object \n",
      " 3   r_fighter        7497 non-null   object \n",
      " 4   b_fighter        7497 non-null   object \n",
      " 5   status           7582 non-null   object \n",
      " 6   r_kd             7476 non-null   float64\n",
      " 7   b_kd             7476 non-null   float64\n",
      " 8   r_str            7476 non-null   float64\n",
      " 9   b_str            7476 non-null   float64\n",
      " 10  r_td             7476 non-null   float64\n",
      " 11  b_td             7476 non-null   float64\n",
      " 12  r_sub            7476 non-null   float64\n",
      " 13  b_sub            7476 non-null   float64\n",
      " 14  weight_class     7497 non-null   object \n",
      " 15  method           7497 non-null   object \n",
      " 16  method_detailed  3836 non-null   object \n",
      " 17  round            7497 non-null   float64\n",
      " 18  time             7497 non-null   object \n",
      "dtypes: float64(9), object(10)\n",
      "memory usage: 1.1+ MB\n"
     ]
    }
   ],
   "source": [
    "#Verificando los missing_values:\n",
    "enfrentamientos.info()"
   ]
  },
  {
   "cell_type": "code",
   "execution_count": 155,
   "metadata": {},
   "outputs": [],
   "source": [
    "#Creandp copia:\n",
    "df_2 = enfrentamientos.copy()"
   ]
  },
  {
   "cell_type": "code",
   "execution_count": 156,
   "metadata": {},
   "outputs": [],
   "source": [
    "#Eliminando columnas que no serán objeto de estudio:\n",
    "df_2.drop(['status','r_kd','b_kd', 'r_str', 'b_str', 'r_td', 'b_td', 'r_sub', 'b_sub'], axis=1, inplace=True)"
   ]
  },
  {
   "cell_type": "code",
   "execution_count": 157,
   "metadata": {},
   "outputs": [],
   "source": [
    "#Eliminando cualquier fila que tenga un solo missingvalue:\n",
    "df_2.dropna(inplace=True)\n"
   ]
  },
  {
   "cell_type": "markdown",
   "metadata": {},
   "source": [
    "Se cambiarán todas las filas y columnas que estén en ingles para mayor comprensión a la hora de trabajarlas"
   ]
  },
  {
   "cell_type": "code",
   "execution_count": 158,
   "metadata": {},
   "outputs": [],
   "source": [
    "#Importando diccionario de traducciones:\n",
    "\n",
    "#Diccionario de columnas\n",
    "ingles_columnas2 = [\"event\",\"date\",\"location\",\"r_fighter\",\n",
    "                    \"b_fighter\",\"weight_class\",\"method\",\n",
    "                    \"method_detailed\",\"round\",\"time\"]\n",
    "\n",
    "español_columnas2= [\"Evento\",\"Día\",\"Donde\",\n",
    "                    \"Ganador\",\"Perdedor\",\"Division\",\n",
    "                    \"Metodo\",\"Detalles\",\"Round\",\"Tiempo\"]\n",
    "\n",
    "#Todas las divisiones\n",
    "division_dict = {'Middleweight': 'Peso Medio',\n",
    "                'Bantamweight': 'Peso Gallo',\n",
    "                'Featherweight': 'Peso Pluma',\n",
    "                'Heavyweight': 'Peso Pesado',\n",
    "                \"Women's Bantamweight\": 'Peso Gallo',\n",
    "                'Lightweight': 'Peso Ligero',\n",
    "                'Flyweight': 'Peso Mosca',\n",
    "                \"Women's Strawweight\": 'Peso Paja',\n",
    "                'Welterweight': 'Peso Welter',\n",
    "                'Light Heavyweight': 'Peso Semipesado',\n",
    "                \"Women's Flyweight\": 'Peso Mosca',\n",
    "                'Catch Weight': 'Peso Pactado',\n",
    "                \"Women's Featherweight\": 'Peso Pluma',\n",
    "                'Super Heavyweight': 'Peso Super Pesado',\n",
    "                'Open Weight': 'Peso Abierto'}\n",
    "\n",
    "#Técnicas de Golpeo:\n",
    "dict_golpes = {\"Punches\":\"Golpes\",\n",
    "                \"Kick\":\"Patada\",\n",
    "                \"Punch\":\"Puño\",\n",
    "                \"Elbows\":\"Codos\",\n",
    "                \"Elbow\":\"Codo\",\n",
    "                \"Flying Knee\":\"Rodilla Voladora\",\n",
    "                \"Knees\":\"Rodillas\",\n",
    "                \"Knee\":\"Rodilla\",\n",
    "                \"Kicks\":\"Patadas\",\n",
    "                \"Spinning Back Kick\":\"Patada Circular\",\n",
    "                \"Spinning Back Fist\":\"Puñetazo Circular\",\n",
    "                \"Spinning Back Elbow\":\"Codazo Circular\",\n",
    "                \"Headbutts\":\"Cabezazos\",\n",
    "                \"Slam\":\"Golpe Bajo\"}\n",
    "\n",
    "#Técnicas de Grappling y Estrangulaciones\n",
    "dict_suelo = {\"Rear Naked Choke\":\"Estrangulación Trasera\",\n",
    "                \"D'Arce Choke\":\"Estrangulación D'Arce\",\n",
    "                \"Guillotine Choke\":\"Estrangulación Guillotina\",\n",
    "                \"Arm Triangle\":\"Triángulo de Brazo\",\n",
    "                \"Armbar\":\"Llave de Brazo\",\n",
    "                \"Triangle Choke\":\"Estrangulación Triangular\",\n",
    "                \"Anaconda Choke\":\"Estrangulación Anaconda\",\n",
    "                \"Neck Crank\":\"Torcedura de Cuello\",\n",
    "                \"Kimura\":\"Llave Kimura\",\n",
    "                \"Kneebar\":\"Llave de Rodilla\",\n",
    "                \"Inverted Triangle\" : \"Triángulo Invertido\",\n",
    "                \"Von Flue Choke\" : \"Estrangulación Von Flue\",\n",
    "                \"Scarf Hold\" : \"Sujeción de Bufanda\",\n",
    "                \"Straight Armbar\" : \"Llave de Brazo Recto\",\n",
    "                \"Heel Hook\" : \"Llave de Talón\",\n",
    "                \"Ankle Lock\" : \"Llave de Tobillo\",\n",
    "                \"Forearm Choke\" : \"Estrangulación con Antebrazo\",\n",
    "                \"Ezekiel Choke\" : \"Estrangulación Ezekiel\",\n",
    "                \"Peruvian Necktie\" : \"Corbata Peruana\",\n",
    "                \"Schultz Front Headlock\" : \"Llave de Cabeza Schultz\",\n",
    "                \"Bulldog Choke\" : \"Estrangulación Bulldog\",\n",
    "                \"Suloev Stretch\" : \"Estiramiento Suloev\",\n",
    "                \"Omoplata\" : \"Omoplato\",\n",
    "                \"Calf Slicer\" : \"Cortador de Pantorrilla\",\n",
    "                \"North-South Choke\" : \"Estrangulación Norte-Sur\",\n",
    "                \"Pace/Pillory Choke\" : \"Estrangulación Pace/Pillory\",\n",
    "                \"Toe Hold\" : \"Llave Dedo del Pie\",\n",
    "                \"Shoulder Choke\" : \"Estrangulación de Hombro\",\n",
    "                \"Twister\":\"Torcedura\"}\n",
    "\n",
    "traduccion_dict = {**dict_golpes,**dict_suelo}"
   ]
  },
  {
   "cell_type": "code",
   "execution_count": 159,
   "metadata": {},
   "outputs": [],
   "source": [
    "#Implementando los diccionarios:\n",
    "df_2.rename(columns=dict(zip(ingles_columnas2, español_columnas2)), inplace=True)\n",
    "df_2['Detalles'] = df_2['Detalles'].replace(traduccion_dict)\n",
    "df_2['Division'] = df_2['Division'].replace({**division_dict})"
   ]
  },
  {
   "cell_type": "code",
   "execution_count": 160,
   "metadata": {},
   "outputs": [],
   "source": [
    "#Voy a elimnar categorías no influyentes en el estudio\n",
    "eliminar = [\"Other\",\"Other - Lock\", \"Other - Choke\" ,\"injury\", \"Gi Choke\", \"Keylock\"]\n",
    "eliminados = '|'.join(eliminar)\n",
    "df_2 = df_2[~df_2['Detalles'].str.contains(eliminados, regex=True)]\n"
   ]
  },
  {
   "cell_type": "code",
   "execution_count": 161,
   "metadata": {},
   "outputs": [],
   "source": [
    "#Reseteando índice:\n",
    "df_2.reset_index(drop=True, inplace=True)\n",
    "\n"
   ]
  },
  {
   "cell_type": "code",
   "execution_count": 162,
   "metadata": {},
   "outputs": [],
   "source": [
    "#Guardando DataFrame en csv.\n",
    "#df_2.to_csv(\"../data/Enfrentamientos/Enfrentamientos_limpio.csv\")\n",
    "\n"
   ]
  },
  {
   "cell_type": "code",
   "execution_count": 163,
   "metadata": {},
   "outputs": [
    {
     "data": {
      "text/html": [
       "<div>\n",
       "<style scoped>\n",
       "    .dataframe tbody tr th:only-of-type {\n",
       "        vertical-align: middle;\n",
       "    }\n",
       "\n",
       "    .dataframe tbody tr th {\n",
       "        vertical-align: top;\n",
       "    }\n",
       "\n",
       "    .dataframe thead th {\n",
       "        text-align: right;\n",
       "    }\n",
       "</style>\n",
       "<table border=\"1\" class=\"dataframe\">\n",
       "  <thead>\n",
       "    <tr style=\"text-align: right;\">\n",
       "      <th></th>\n",
       "      <th>Evento</th>\n",
       "      <th>Día</th>\n",
       "      <th>Donde</th>\n",
       "      <th>Ganador</th>\n",
       "      <th>Perdedor</th>\n",
       "      <th>Division</th>\n",
       "      <th>Metodo</th>\n",
       "      <th>Detalles</th>\n",
       "      <th>Round</th>\n",
       "      <th>Tiempo</th>\n",
       "    </tr>\n",
       "  </thead>\n",
       "  <tbody>\n",
       "    <tr>\n",
       "      <th>0</th>\n",
       "      <td>UFC Fight Night: Ribas vs. Namajunas</td>\n",
       "      <td>3/23/2024</td>\n",
       "      <td>Las Vegas, Nevada, USA</td>\n",
       "      <td>Edmen Shahbazyan</td>\n",
       "      <td>AJ Dobson</td>\n",
       "      <td>Peso Medio</td>\n",
       "      <td>KO/TKO</td>\n",
       "      <td>Golpes</td>\n",
       "      <td>1.0</td>\n",
       "      <td>4:33</td>\n",
       "    </tr>\n",
       "    <tr>\n",
       "      <th>1</th>\n",
       "      <td>UFC Fight Night: Ribas vs. Namajunas</td>\n",
       "      <td>3/23/2024</td>\n",
       "      <td>Las Vegas, Nevada, USA</td>\n",
       "      <td>Payton Talbott</td>\n",
       "      <td>Cameron Saaiman</td>\n",
       "      <td>Peso Gallo</td>\n",
       "      <td>KO/TKO</td>\n",
       "      <td>Golpes</td>\n",
       "      <td>2.0</td>\n",
       "      <td>0:21</td>\n",
       "    </tr>\n",
       "    <tr>\n",
       "      <th>2</th>\n",
       "      <td>UFC Fight Night: Ribas vs. Namajunas</td>\n",
       "      <td>3/23/2024</td>\n",
       "      <td>Las Vegas, Nevada, USA</td>\n",
       "      <td>Youssef Zalal</td>\n",
       "      <td>Billy Quarantillo</td>\n",
       "      <td>Peso Pluma</td>\n",
       "      <td>SUB</td>\n",
       "      <td>Estrangulación Trasera</td>\n",
       "      <td>2.0</td>\n",
       "      <td>1:50</td>\n",
       "    </tr>\n",
       "    <tr>\n",
       "      <th>3</th>\n",
       "      <td>UFC Fight Night: Ribas vs. Namajunas</td>\n",
       "      <td>3/23/2024</td>\n",
       "      <td>Las Vegas, Nevada, USA</td>\n",
       "      <td>Fernando Padilla</td>\n",
       "      <td>Luis Pajuelo</td>\n",
       "      <td>Peso Pluma</td>\n",
       "      <td>SUB</td>\n",
       "      <td>Estrangulación D'Arce</td>\n",
       "      <td>1.0</td>\n",
       "      <td>2:45</td>\n",
       "    </tr>\n",
       "    <tr>\n",
       "      <th>4</th>\n",
       "      <td>UFC Fight Night: Ribas vs. Namajunas</td>\n",
       "      <td>3/23/2024</td>\n",
       "      <td>Las Vegas, Nevada, USA</td>\n",
       "      <td>Julian Erosa</td>\n",
       "      <td>Ricardo Ramos</td>\n",
       "      <td>Peso Pluma</td>\n",
       "      <td>SUB</td>\n",
       "      <td>Estrangulación Guillotina</td>\n",
       "      <td>1.0</td>\n",
       "      <td>2:15</td>\n",
       "    </tr>\n",
       "  </tbody>\n",
       "</table>\n",
       "</div>"
      ],
      "text/plain": [
       "                                 Evento        Día                   Donde  \\\n",
       "0  UFC Fight Night: Ribas vs. Namajunas  3/23/2024  Las Vegas, Nevada, USA   \n",
       "1  UFC Fight Night: Ribas vs. Namajunas  3/23/2024  Las Vegas, Nevada, USA   \n",
       "2  UFC Fight Night: Ribas vs. Namajunas  3/23/2024  Las Vegas, Nevada, USA   \n",
       "3  UFC Fight Night: Ribas vs. Namajunas  3/23/2024  Las Vegas, Nevada, USA   \n",
       "4  UFC Fight Night: Ribas vs. Namajunas  3/23/2024  Las Vegas, Nevada, USA   \n",
       "\n",
       "            Ganador           Perdedor    Division  Metodo  \\\n",
       "0  Edmen Shahbazyan          AJ Dobson  Peso Medio  KO/TKO   \n",
       "1    Payton Talbott    Cameron Saaiman  Peso Gallo  KO/TKO   \n",
       "2     Youssef Zalal  Billy Quarantillo  Peso Pluma     SUB   \n",
       "3  Fernando Padilla       Luis Pajuelo  Peso Pluma     SUB   \n",
       "4      Julian Erosa      Ricardo Ramos  Peso Pluma     SUB   \n",
       "\n",
       "                    Detalles  Round Tiempo  \n",
       "0                     Golpes    1.0   4:33  \n",
       "1                     Golpes    2.0   0:21  \n",
       "2     Estrangulación Trasera    2.0   1:50  \n",
       "3      Estrangulación D'Arce    1.0   2:45  \n",
       "4  Estrangulación Guillotina    1.0   2:15  "
      ]
     },
     "execution_count": 163,
     "metadata": {},
     "output_type": "execute_result"
    }
   ],
   "source": [
    "#Enfrentamientos_limpios:\n",
    "df_2.head()"
   ]
  },
  {
   "cell_type": "markdown",
   "metadata": {},
   "source": [
    "### Variables totales:\n",
    "\n",
    "- **Enfrentamientos**: 3815 🥊\n",
    "\n",
    "- **Métricas**: 10 📒\n",
    "\n",
    "&nbsp; "
   ]
  },
  {
   "cell_type": "markdown",
   "metadata": {},
   "source": [
    "Se creará un DataFrame de Divisiones y sus respectivos rangos de peso"
   ]
  },
  {
   "cell_type": "code",
   "execution_count": 164,
   "metadata": {},
   "outputs": [],
   "source": [
    "#Introduciendo diccionario de divisiones:\n",
    "\n",
    "informacion = {'Division':['Peso Medio','Peso Gallo','Peso Pluma','Peso Pesado','Peso Gallo','Peso Ligero',\n",
    "                           'Peso Mosca','Peso Paja','Peso Welter','Peso Semipesado',\n",
    "                           'Peso Pactado','Peso Super Pesado','Peso Abierto'],\n",
    "               'Peso (kg)':['Hasta 84 kg','Hasta 61.2 kg','Hasta 65.8 kg','Hasta 120.2 kg','Hasta 61.2 kg','Hasta 70.3 kg',\n",
    "                            'Hasta 56.7 kg','Hasta 52.2 kg','Hasta 77.1 kg','Hasta 93 kg','Peso pactado',\n",
    "                            'Más de 120.2 kg','Cualquier peso']}\n",
    "\n",
    "division = pd.DataFrame(informacion)\n"
   ]
  },
  {
   "cell_type": "code",
   "execution_count": 165,
   "metadata": {},
   "outputs": [],
   "source": [
    "#Creando DataFrame\n",
    "division = pd.DataFrame(informacion)"
   ]
  },
  {
   "cell_type": "code",
   "execution_count": 166,
   "metadata": {},
   "outputs": [],
   "source": [
    "#Guardando dataframe:\n",
    "#division.to_csv(\"../data/Divisiones/Categorias_por_peso.csv\")"
   ]
  },
  {
   "cell_type": "markdown",
   "metadata": {},
   "source": [
    "# Algunas estadísticas rapidas\n",
    "##### No serán objeto de estudio"
   ]
  },
  {
   "cell_type": "code",
   "execution_count": 167,
   "metadata": {},
   "outputs": [
    {
     "data": {
      "text/plain": [
       "Donde\n",
       "Las Vegas, Nevada, USA                        1299\n",
       "Abu Dhabi, Abu Dhabi, United Arab Emirates      83\n",
       "London, England, United Kingdom                 78\n",
       "Name: count, dtype: int64"
      ]
     },
     "execution_count": 167,
     "metadata": {},
     "output_type": "execute_result"
    }
   ],
   "source": [
    "#Donde se hacen mas eventos:\n",
    "df_2[\"Donde\"].value_counts()[:3]"
   ]
  },
  {
   "cell_type": "code",
   "execution_count": 168,
   "metadata": {},
   "outputs": [
    {
     "data": {
      "text/plain": [
       "Ganador\n",
       "Charles Oliveira    20\n",
       "Jim Miller          17\n",
       "Donald Cerrone      16\n",
       "Name: count, dtype: int64"
      ]
     },
     "execution_count": 168,
     "metadata": {},
     "output_type": "execute_result"
    }
   ],
   "source": [
    "#Quien ha participado mas veces:\n",
    "df_2[\"Ganador\"].value_counts()[:3]"
   ]
  },
  {
   "cell_type": "code",
   "execution_count": 169,
   "metadata": {},
   "outputs": [
    {
     "data": {
      "text/plain": [
       "Division\n",
       "Peso Ligero    641\n",
       "Peso Welter    626\n",
       "Peso Medio     569\n",
       "Name: count, dtype: int64"
      ]
     },
     "execution_count": 169,
     "metadata": {},
     "output_type": "execute_result"
    }
   ],
   "source": [
    "#En que division ha habido mas combates:\n",
    "df_2[\"Division\"].value_counts()[:3]"
   ]
  },
  {
   "cell_type": "code",
   "execution_count": 170,
   "metadata": {},
   "outputs": [
    {
     "data": {
      "text/plain": [
       "Metodo\n",
       "KO/TKO    2335\n",
       "SUB       1479\n",
       "Name: count, dtype: int64"
      ]
     },
     "execution_count": 170,
     "metadata": {},
     "output_type": "execute_result"
    }
   ],
   "source": [
    "#Mas KO's o sumisiones:\n",
    "df_2 = df_2[~df_2['Metodo'].str.contains(\"DQ\", regex=True)]\n",
    "df_2[\"Metodo\"].value_counts()[:3]"
   ]
  },
  {
   "cell_type": "code",
   "execution_count": 171,
   "metadata": {},
   "outputs": [
    {
     "data": {
      "text/plain": [
       "Round      1.0\n",
       "Tiempo    4:59\n",
       "count       26\n",
       "Name: 301, dtype: object"
      ]
     },
     "execution_count": 171,
     "metadata": {},
     "output_type": "execute_result"
    }
   ],
   "source": [
    "#Round y tiempo mas veces visto:\n",
    "frecuencias = df_2.groupby(['Round', 'Tiempo']).size().reset_index(name='count')\n",
    "comun = frecuencias.loc[frecuencias['count'].idxmax()]\n",
    "comun"
   ]
  },
  {
   "cell_type": "code",
   "execution_count": null,
   "metadata": {},
   "outputs": [],
   "source": []
  },
  {
   "cell_type": "code",
   "execution_count": null,
   "metadata": {},
   "outputs": [],
   "source": []
  },
  {
   "cell_type": "code",
   "execution_count": null,
   "metadata": {},
   "outputs": [],
   "source": []
  },
  {
   "cell_type": "code",
   "execution_count": null,
   "metadata": {},
   "outputs": [],
   "source": []
  },
  {
   "cell_type": "code",
   "execution_count": null,
   "metadata": {},
   "outputs": [],
   "source": []
  },
  {
   "cell_type": "code",
   "execution_count": null,
   "metadata": {},
   "outputs": [],
   "source": []
  },
  {
   "cell_type": "code",
   "execution_count": null,
   "metadata": {},
   "outputs": [],
   "source": []
  },
  {
   "cell_type": "code",
   "execution_count": null,
   "metadata": {},
   "outputs": [],
   "source": []
  },
  {
   "cell_type": "code",
   "execution_count": null,
   "metadata": {},
   "outputs": [],
   "source": []
  },
  {
   "cell_type": "code",
   "execution_count": null,
   "metadata": {},
   "outputs": [],
   "source": []
  },
  {
   "cell_type": "code",
   "execution_count": null,
   "metadata": {},
   "outputs": [],
   "source": []
  },
  {
   "cell_type": "code",
   "execution_count": null,
   "metadata": {},
   "outputs": [],
   "source": []
  },
  {
   "cell_type": "markdown",
   "metadata": {},
   "source": [
    "## Guardia\n",
    "\n",
    "\n",
    "\n",
    "sfinasifngnizfsgnadnfgnkdzfgn\n",
    "safobgaonfg\n",
    "\n"
   ]
  },
  {
   "cell_type": "markdown",
   "metadata": {},
   "source": []
  },
  {
   "cell_type": "markdown",
   "metadata": {},
   "source": [
    "&nbsp; \n",
    "# **Proximamente...** ⏳ ⏳"
   ]
  }
 ],
 "metadata": {
  "kernelspec": {
   "display_name": "Python 3",
   "language": "python",
   "name": "python3"
  },
  "language_info": {
   "codemirror_mode": {
    "name": "ipython",
    "version": 3
   },
   "file_extension": ".py",
   "mimetype": "text/x-python",
   "name": "python",
   "nbconvert_exporter": "python",
   "pygments_lexer": "ipython3",
   "version": "3.12.5"
  }
 },
 "nbformat": 4,
 "nbformat_minor": 2
}
